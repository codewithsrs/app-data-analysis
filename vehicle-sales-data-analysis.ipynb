{
 "cells": [
  {
   "cell_type": "code",
   "execution_count": 1,
   "id": "ce2f3842",
   "metadata": {
    "_cell_guid": "c190e1e3-34d1-436f-9517-dac7d838c586",
    "_uuid": "26df1d0d-de09-4bd6-a445-7fefcf5330c8",
    "collapsed": false,
    "execution": {
     "iopub.execute_input": "2024-02-25T17:17:30.471728Z",
     "iopub.status.busy": "2024-02-25T17:17:30.471210Z",
     "iopub.status.idle": "2024-02-25T17:17:31.417097Z",
     "shell.execute_reply": "2024-02-25T17:17:31.415633Z"
    },
    "jupyter": {
     "outputs_hidden": false
    },
    "papermill": {
     "duration": 0.964926,
     "end_time": "2024-02-25T17:17:31.420284",
     "exception": false,
     "start_time": "2024-02-25T17:17:30.455358",
     "status": "completed"
    },
    "tags": []
   },
   "outputs": [],
   "source": [
    "import pandas as pd\n",
    "import numpy as np\n",
    "import matplotlib.pyplot as plt\n",
    "import datetime"
   ]
  },
  {
   "cell_type": "code",
   "execution_count": 2,
   "id": "7a825cc2",
   "metadata": {
    "execution": {
     "iopub.execute_input": "2024-02-25T17:17:31.445589Z",
     "iopub.status.busy": "2024-02-25T17:17:31.444627Z",
     "iopub.status.idle": "2024-02-25T17:17:35.374593Z",
     "shell.execute_reply": "2024-02-25T17:17:35.373440Z"
    },
    "papermill": {
     "duration": 3.946014,
     "end_time": "2024-02-25T17:17:35.377540",
     "exception": false,
     "start_time": "2024-02-25T17:17:31.431526",
     "status": "completed"
    },
    "tags": []
   },
   "outputs": [
    {
     "data": {
      "text/html": [
       "<div>\n",
       "<style scoped>\n",
       "    .dataframe tbody tr th:only-of-type {\n",
       "        vertical-align: middle;\n",
       "    }\n",
       "\n",
       "    .dataframe tbody tr th {\n",
       "        vertical-align: top;\n",
       "    }\n",
       "\n",
       "    .dataframe thead th {\n",
       "        text-align: right;\n",
       "    }\n",
       "</style>\n",
       "<table border=\"1\" class=\"dataframe\">\n",
       "  <thead>\n",
       "    <tr style=\"text-align: right;\">\n",
       "      <th></th>\n",
       "      <th>year</th>\n",
       "      <th>make</th>\n",
       "      <th>model</th>\n",
       "      <th>trim</th>\n",
       "      <th>body</th>\n",
       "      <th>transmission</th>\n",
       "      <th>vin</th>\n",
       "      <th>state</th>\n",
       "      <th>condition</th>\n",
       "      <th>odometer</th>\n",
       "      <th>color</th>\n",
       "      <th>interior</th>\n",
       "      <th>seller</th>\n",
       "      <th>mmr</th>\n",
       "      <th>sellingprice</th>\n",
       "      <th>saledate</th>\n",
       "    </tr>\n",
       "  </thead>\n",
       "  <tbody>\n",
       "    <tr>\n",
       "      <th>0</th>\n",
       "      <td>2015</td>\n",
       "      <td>Kia</td>\n",
       "      <td>Sorento</td>\n",
       "      <td>LX</td>\n",
       "      <td>SUV</td>\n",
       "      <td>automatic</td>\n",
       "      <td>5xyktca69fg566472</td>\n",
       "      <td>ca</td>\n",
       "      <td>5.0</td>\n",
       "      <td>16639.0</td>\n",
       "      <td>white</td>\n",
       "      <td>black</td>\n",
       "      <td>kia motors america  inc</td>\n",
       "      <td>20500.0</td>\n",
       "      <td>21500.0</td>\n",
       "      <td>Tue Dec 16 2014 12:30:00 GMT-0800 (PST)</td>\n",
       "    </tr>\n",
       "    <tr>\n",
       "      <th>1</th>\n",
       "      <td>2015</td>\n",
       "      <td>Kia</td>\n",
       "      <td>Sorento</td>\n",
       "      <td>LX</td>\n",
       "      <td>SUV</td>\n",
       "      <td>automatic</td>\n",
       "      <td>5xyktca69fg561319</td>\n",
       "      <td>ca</td>\n",
       "      <td>5.0</td>\n",
       "      <td>9393.0</td>\n",
       "      <td>white</td>\n",
       "      <td>beige</td>\n",
       "      <td>kia motors america  inc</td>\n",
       "      <td>20800.0</td>\n",
       "      <td>21500.0</td>\n",
       "      <td>Tue Dec 16 2014 12:30:00 GMT-0800 (PST)</td>\n",
       "    </tr>\n",
       "    <tr>\n",
       "      <th>2</th>\n",
       "      <td>2014</td>\n",
       "      <td>BMW</td>\n",
       "      <td>3 Series</td>\n",
       "      <td>328i SULEV</td>\n",
       "      <td>Sedan</td>\n",
       "      <td>automatic</td>\n",
       "      <td>wba3c1c51ek116351</td>\n",
       "      <td>ca</td>\n",
       "      <td>45.0</td>\n",
       "      <td>1331.0</td>\n",
       "      <td>gray</td>\n",
       "      <td>black</td>\n",
       "      <td>financial services remarketing (lease)</td>\n",
       "      <td>31900.0</td>\n",
       "      <td>30000.0</td>\n",
       "      <td>Thu Jan 15 2015 04:30:00 GMT-0800 (PST)</td>\n",
       "    </tr>\n",
       "    <tr>\n",
       "      <th>3</th>\n",
       "      <td>2015</td>\n",
       "      <td>Volvo</td>\n",
       "      <td>S60</td>\n",
       "      <td>T5</td>\n",
       "      <td>Sedan</td>\n",
       "      <td>automatic</td>\n",
       "      <td>yv1612tb4f1310987</td>\n",
       "      <td>ca</td>\n",
       "      <td>41.0</td>\n",
       "      <td>14282.0</td>\n",
       "      <td>white</td>\n",
       "      <td>black</td>\n",
       "      <td>volvo na rep/world omni</td>\n",
       "      <td>27500.0</td>\n",
       "      <td>27750.0</td>\n",
       "      <td>Thu Jan 29 2015 04:30:00 GMT-0800 (PST)</td>\n",
       "    </tr>\n",
       "    <tr>\n",
       "      <th>4</th>\n",
       "      <td>2014</td>\n",
       "      <td>BMW</td>\n",
       "      <td>6 Series Gran Coupe</td>\n",
       "      <td>650i</td>\n",
       "      <td>Sedan</td>\n",
       "      <td>automatic</td>\n",
       "      <td>wba6b2c57ed129731</td>\n",
       "      <td>ca</td>\n",
       "      <td>43.0</td>\n",
       "      <td>2641.0</td>\n",
       "      <td>gray</td>\n",
       "      <td>black</td>\n",
       "      <td>financial services remarketing (lease)</td>\n",
       "      <td>66000.0</td>\n",
       "      <td>67000.0</td>\n",
       "      <td>Thu Dec 18 2014 12:30:00 GMT-0800 (PST)</td>\n",
       "    </tr>\n",
       "  </tbody>\n",
       "</table>\n",
       "</div>"
      ],
      "text/plain": [
       "   year   make                model        trim   body transmission  \\\n",
       "0  2015    Kia              Sorento          LX    SUV    automatic   \n",
       "1  2015    Kia              Sorento          LX    SUV    automatic   \n",
       "2  2014    BMW             3 Series  328i SULEV  Sedan    automatic   \n",
       "3  2015  Volvo                  S60          T5  Sedan    automatic   \n",
       "4  2014    BMW  6 Series Gran Coupe        650i  Sedan    automatic   \n",
       "\n",
       "                 vin state  condition  odometer  color interior  \\\n",
       "0  5xyktca69fg566472    ca        5.0   16639.0  white    black   \n",
       "1  5xyktca69fg561319    ca        5.0    9393.0  white    beige   \n",
       "2  wba3c1c51ek116351    ca       45.0    1331.0   gray    black   \n",
       "3  yv1612tb4f1310987    ca       41.0   14282.0  white    black   \n",
       "4  wba6b2c57ed129731    ca       43.0    2641.0   gray    black   \n",
       "\n",
       "                                   seller      mmr  sellingprice  \\\n",
       "0                 kia motors america  inc  20500.0       21500.0   \n",
       "1                 kia motors america  inc  20800.0       21500.0   \n",
       "2  financial services remarketing (lease)  31900.0       30000.0   \n",
       "3                 volvo na rep/world omni  27500.0       27750.0   \n",
       "4  financial services remarketing (lease)  66000.0       67000.0   \n",
       "\n",
       "                                  saledate  \n",
       "0  Tue Dec 16 2014 12:30:00 GMT-0800 (PST)  \n",
       "1  Tue Dec 16 2014 12:30:00 GMT-0800 (PST)  \n",
       "2  Thu Jan 15 2015 04:30:00 GMT-0800 (PST)  \n",
       "3  Thu Jan 29 2015 04:30:00 GMT-0800 (PST)  \n",
       "4  Thu Dec 18 2014 12:30:00 GMT-0800 (PST)  "
      ]
     },
     "execution_count": 2,
     "metadata": {},
     "output_type": "execute_result"
    }
   ],
   "source": [
    "vehicle_sales_data = pd.read_csv(\"/kaggle/input/vehicle-sales-data/car_prices.csv\")\n",
    "vehicle_sales_data.head()"
   ]
  },
  {
   "cell_type": "code",
   "execution_count": 3,
   "id": "93a48fe6",
   "metadata": {
    "execution": {
     "iopub.execute_input": "2024-02-25T17:17:35.403505Z",
     "iopub.status.busy": "2024-02-25T17:17:35.402733Z",
     "iopub.status.idle": "2024-02-25T17:17:35.410187Z",
     "shell.execute_reply": "2024-02-25T17:17:35.408822Z"
    },
    "papermill": {
     "duration": 0.023275,
     "end_time": "2024-02-25T17:17:35.412688",
     "exception": false,
     "start_time": "2024-02-25T17:17:35.389413",
     "status": "completed"
    },
    "tags": []
   },
   "outputs": [
    {
     "data": {
      "text/plain": [
       "(558837, 16)"
      ]
     },
     "execution_count": 3,
     "metadata": {},
     "output_type": "execute_result"
    }
   ],
   "source": [
    "vehicle_sales_data.shape"
   ]
  },
  {
   "cell_type": "code",
   "execution_count": 4,
   "id": "9d359aeb",
   "metadata": {
    "execution": {
     "iopub.execute_input": "2024-02-25T17:17:35.438049Z",
     "iopub.status.busy": "2024-02-25T17:17:35.437632Z",
     "iopub.status.idle": "2024-02-25T17:17:36.120768Z",
     "shell.execute_reply": "2024-02-25T17:17:36.119327Z"
    },
    "papermill": {
     "duration": 0.700109,
     "end_time": "2024-02-25T17:17:36.124485",
     "exception": false,
     "start_time": "2024-02-25T17:17:35.424376",
     "status": "completed"
    },
    "tags": []
   },
   "outputs": [
    {
     "name": "stdout",
     "output_type": "stream",
     "text": [
      "<class 'pandas.core.frame.DataFrame'>\n",
      "RangeIndex: 558837 entries, 0 to 558836\n",
      "Data columns (total 16 columns):\n",
      " #   Column        Non-Null Count   Dtype  \n",
      "---  ------        --------------   -----  \n",
      " 0   year          558837 non-null  int64  \n",
      " 1   make          548536 non-null  object \n",
      " 2   model         548438 non-null  object \n",
      " 3   trim          548186 non-null  object \n",
      " 4   body          545642 non-null  object \n",
      " 5   transmission  493485 non-null  object \n",
      " 6   vin           558833 non-null  object \n",
      " 7   state         558837 non-null  object \n",
      " 8   condition     547017 non-null  float64\n",
      " 9   odometer      558743 non-null  float64\n",
      " 10  color         558088 non-null  object \n",
      " 11  interior      558088 non-null  object \n",
      " 12  seller        558837 non-null  object \n",
      " 13  mmr           558799 non-null  float64\n",
      " 14  sellingprice  558825 non-null  float64\n",
      " 15  saledate      558825 non-null  object \n",
      "dtypes: float64(4), int64(1), object(11)\n",
      "memory usage: 68.2+ MB\n"
     ]
    }
   ],
   "source": [
    "vehicle_sales_data.info()"
   ]
  },
  {
   "cell_type": "code",
   "execution_count": 5,
   "id": "692634a4",
   "metadata": {
    "execution": {
     "iopub.execute_input": "2024-02-25T17:17:36.150682Z",
     "iopub.status.busy": "2024-02-25T17:17:36.150216Z",
     "iopub.status.idle": "2024-02-25T17:17:36.247419Z",
     "shell.execute_reply": "2024-02-25T17:17:36.246224Z"
    },
    "papermill": {
     "duration": 0.11294,
     "end_time": "2024-02-25T17:17:36.250009",
     "exception": false,
     "start_time": "2024-02-25T17:17:36.137069",
     "status": "completed"
    },
    "tags": []
   },
   "outputs": [
    {
     "data": {
      "text/html": [
       "<div>\n",
       "<style scoped>\n",
       "    .dataframe tbody tr th:only-of-type {\n",
       "        vertical-align: middle;\n",
       "    }\n",
       "\n",
       "    .dataframe tbody tr th {\n",
       "        vertical-align: top;\n",
       "    }\n",
       "\n",
       "    .dataframe thead th {\n",
       "        text-align: right;\n",
       "    }\n",
       "</style>\n",
       "<table border=\"1\" class=\"dataframe\">\n",
       "  <thead>\n",
       "    <tr style=\"text-align: right;\">\n",
       "      <th></th>\n",
       "      <th>year</th>\n",
       "      <th>make</th>\n",
       "      <th>model</th>\n",
       "      <th>trim</th>\n",
       "      <th>body</th>\n",
       "      <th>transmission</th>\n",
       "      <th>vin</th>\n",
       "      <th>state</th>\n",
       "      <th>condition</th>\n",
       "      <th>odometer</th>\n",
       "      <th>color</th>\n",
       "      <th>interior</th>\n",
       "      <th>seller</th>\n",
       "      <th>mmr</th>\n",
       "      <th>sellingprice</th>\n",
       "      <th>saledate</th>\n",
       "    </tr>\n",
       "  </thead>\n",
       "  <tbody>\n",
       "    <tr>\n",
       "      <th>742</th>\n",
       "      <td>2012</td>\n",
       "      <td>NaN</td>\n",
       "      <td>NaN</td>\n",
       "      <td>NaN</td>\n",
       "      <td>NaN</td>\n",
       "      <td>automatic</td>\n",
       "      <td>wbakb8c51cc964387</td>\n",
       "      <td>ca</td>\n",
       "      <td>38.0</td>\n",
       "      <td>23208.0</td>\n",
       "      <td>gray</td>\n",
       "      <td>black</td>\n",
       "      <td>financial services remarketing (lease)</td>\n",
       "      <td>47200.0</td>\n",
       "      <td>46000.0</td>\n",
       "      <td>Thu Feb 26 2015 04:30:00 GMT-0800 (PST)</td>\n",
       "    </tr>\n",
       "    <tr>\n",
       "      <th>747</th>\n",
       "      <td>2012</td>\n",
       "      <td>NaN</td>\n",
       "      <td>NaN</td>\n",
       "      <td>NaN</td>\n",
       "      <td>NaN</td>\n",
       "      <td>automatic</td>\n",
       "      <td>wbakb8c53cc964410</td>\n",
       "      <td>ca</td>\n",
       "      <td>33.0</td>\n",
       "      <td>19785.0</td>\n",
       "      <td>beige</td>\n",
       "      <td>gray</td>\n",
       "      <td>financial services remarketing (lease)</td>\n",
       "      <td>49500.0</td>\n",
       "      <td>46000.0</td>\n",
       "      <td>Thu Feb 12 2015 04:30:00 GMT-0800 (PST)</td>\n",
       "    </tr>\n",
       "    <tr>\n",
       "      <th>766</th>\n",
       "      <td>2012</td>\n",
       "      <td>NaN</td>\n",
       "      <td>NaN</td>\n",
       "      <td>NaN</td>\n",
       "      <td>NaN</td>\n",
       "      <td>automatic</td>\n",
       "      <td>wbakb8c54cc964089</td>\n",
       "      <td>ca</td>\n",
       "      <td>37.0</td>\n",
       "      <td>48424.0</td>\n",
       "      <td>black</td>\n",
       "      <td>black</td>\n",
       "      <td>financial services remarketing (lease)</td>\n",
       "      <td>42300.0</td>\n",
       "      <td>43000.0</td>\n",
       "      <td>Thu Jan 15 2015 04:30:00 GMT-0800 (PST)</td>\n",
       "    </tr>\n",
       "    <tr>\n",
       "      <th>798</th>\n",
       "      <td>2012</td>\n",
       "      <td>NaN</td>\n",
       "      <td>NaN</td>\n",
       "      <td>NaN</td>\n",
       "      <td>NaN</td>\n",
       "      <td>automatic</td>\n",
       "      <td>wbakb8c59cc448049</td>\n",
       "      <td>ca</td>\n",
       "      <td>48.0</td>\n",
       "      <td>39825.0</td>\n",
       "      <td>—</td>\n",
       "      <td>gray</td>\n",
       "      <td>financial services remarketing (lease)</td>\n",
       "      <td>58100.0</td>\n",
       "      <td>58500.0</td>\n",
       "      <td>Thu Jan 15 2015 04:30:00 GMT-0800 (PST)</td>\n",
       "    </tr>\n",
       "  </tbody>\n",
       "</table>\n",
       "</div>"
      ],
      "text/plain": [
       "     year make model trim body transmission                vin state  \\\n",
       "742  2012  NaN   NaN  NaN  NaN    automatic  wbakb8c51cc964387    ca   \n",
       "747  2012  NaN   NaN  NaN  NaN    automatic  wbakb8c53cc964410    ca   \n",
       "766  2012  NaN   NaN  NaN  NaN    automatic  wbakb8c54cc964089    ca   \n",
       "798  2012  NaN   NaN  NaN  NaN    automatic  wbakb8c59cc448049    ca   \n",
       "\n",
       "     condition  odometer  color interior  \\\n",
       "742       38.0   23208.0   gray    black   \n",
       "747       33.0   19785.0  beige     gray   \n",
       "766       37.0   48424.0  black    black   \n",
       "798       48.0   39825.0      —     gray   \n",
       "\n",
       "                                     seller      mmr  sellingprice  \\\n",
       "742  financial services remarketing (lease)  47200.0       46000.0   \n",
       "747  financial services remarketing (lease)  49500.0       46000.0   \n",
       "766  financial services remarketing (lease)  42300.0       43000.0   \n",
       "798  financial services remarketing (lease)  58100.0       58500.0   \n",
       "\n",
       "                                    saledate  \n",
       "742  Thu Feb 26 2015 04:30:00 GMT-0800 (PST)  \n",
       "747  Thu Feb 12 2015 04:30:00 GMT-0800 (PST)  \n",
       "766  Thu Jan 15 2015 04:30:00 GMT-0800 (PST)  \n",
       "798  Thu Jan 15 2015 04:30:00 GMT-0800 (PST)  "
      ]
     },
     "execution_count": 5,
     "metadata": {},
     "output_type": "execute_result"
    }
   ],
   "source": [
    "vehicle_sales_data[vehicle_sales_data.make.isnull()].head(4)"
   ]
  },
  {
   "cell_type": "code",
   "execution_count": 6,
   "id": "6b9f7664",
   "metadata": {
    "execution": {
     "iopub.execute_input": "2024-02-25T17:17:36.276288Z",
     "iopub.status.busy": "2024-02-25T17:17:36.275873Z",
     "iopub.status.idle": "2024-02-25T17:17:36.498116Z",
     "shell.execute_reply": "2024-02-25T17:17:36.497092Z"
    },
    "papermill": {
     "duration": 0.238716,
     "end_time": "2024-02-25T17:17:36.500859",
     "exception": false,
     "start_time": "2024-02-25T17:17:36.262143",
     "status": "completed"
    },
    "tags": []
   },
   "outputs": [],
   "source": [
    "vehicle_sales_data = vehicle_sales_data.drop\\\n",
    "(vehicle_sales_data[vehicle_sales_data.make.isnull()].index)"
   ]
  },
  {
   "cell_type": "code",
   "execution_count": 7,
   "id": "5e59b03a",
   "metadata": {
    "execution": {
     "iopub.execute_input": "2024-02-25T17:17:36.527251Z",
     "iopub.status.busy": "2024-02-25T17:17:36.526811Z",
     "iopub.status.idle": "2024-02-25T17:17:36.652073Z",
     "shell.execute_reply": "2024-02-25T17:17:36.650708Z"
    },
    "papermill": {
     "duration": 0.141622,
     "end_time": "2024-02-25T17:17:36.654937",
     "exception": false,
     "start_time": "2024-02-25T17:17:36.513315",
     "status": "completed"
    },
    "tags": []
   },
   "outputs": [
    {
     "data": {
      "text/plain": [
       "(548536, 16)"
      ]
     },
     "execution_count": 7,
     "metadata": {},
     "output_type": "execute_result"
    }
   ],
   "source": [
    "vehicle_sales_data.reset_index(drop = True).shape"
   ]
  },
  {
   "cell_type": "code",
   "execution_count": 8,
   "id": "03645acd",
   "metadata": {
    "execution": {
     "iopub.execute_input": "2024-02-25T17:17:36.682440Z",
     "iopub.status.busy": "2024-02-25T17:17:36.682054Z",
     "iopub.status.idle": "2024-02-25T17:17:37.380575Z",
     "shell.execute_reply": "2024-02-25T17:17:37.378925Z"
    },
    "papermill": {
     "duration": 0.715626,
     "end_time": "2024-02-25T17:17:37.383783",
     "exception": false,
     "start_time": "2024-02-25T17:17:36.668157",
     "status": "completed"
    },
    "tags": []
   },
   "outputs": [
    {
     "name": "stdout",
     "output_type": "stream",
     "text": [
      "<class 'pandas.core.frame.DataFrame'>\n",
      "Index: 548536 entries, 0 to 558836\n",
      "Data columns (total 16 columns):\n",
      " #   Column        Non-Null Count   Dtype  \n",
      "---  ------        --------------   -----  \n",
      " 0   year          548536 non-null  int64  \n",
      " 1   make          548536 non-null  object \n",
      " 2   model         548438 non-null  object \n",
      " 3   trim          548186 non-null  object \n",
      " 4   body          545642 non-null  object \n",
      " 5   transmission  484945 non-null  object \n",
      " 6   vin           548532 non-null  object \n",
      " 7   state         548536 non-null  object \n",
      " 8   condition     536803 non-null  float64\n",
      " 9   odometer      548446 non-null  float64\n",
      " 10  color         547802 non-null  object \n",
      " 11  interior      547802 non-null  object \n",
      " 12  seller        548536 non-null  object \n",
      " 13  mmr           548498 non-null  float64\n",
      " 14  sellingprice  548524 non-null  float64\n",
      " 15  saledate      548524 non-null  object \n",
      "dtypes: float64(4), int64(1), object(11)\n",
      "memory usage: 71.1+ MB\n"
     ]
    }
   ],
   "source": [
    "vehicle_sales_data.info()"
   ]
  },
  {
   "cell_type": "code",
   "execution_count": 9,
   "id": "f6a38955",
   "metadata": {
    "execution": {
     "iopub.execute_input": "2024-02-25T17:17:37.412872Z",
     "iopub.status.busy": "2024-02-25T17:17:37.411953Z",
     "iopub.status.idle": "2024-02-25T17:17:38.426004Z",
     "shell.execute_reply": "2024-02-25T17:17:38.424923Z"
    },
    "papermill": {
     "duration": 1.031646,
     "end_time": "2024-02-25T17:17:38.428851",
     "exception": false,
     "start_time": "2024-02-25T17:17:37.397205",
     "status": "completed"
    },
    "tags": []
   },
   "outputs": [],
   "source": [
    "vehicle_sales_data.loc[(vehicle_sales_data['model'].isnull())&(vehicle_sales_data['make']=='BMW')&(vehicle_sales_data['trim'].str.startswith('7')),'model']='7 series'\n",
    "vehicle_sales_data.loc[(vehicle_sales_data['model'].isnull())&(vehicle_sales_data['make']=='BMW')&(vehicle_sales_data['trim'].str.startswith('6')),'model']='6 series'"
   ]
  },
  {
   "cell_type": "code",
   "execution_count": 10,
   "id": "d3933a5a",
   "metadata": {
    "execution": {
     "iopub.execute_input": "2024-02-25T17:17:38.455579Z",
     "iopub.status.busy": "2024-02-25T17:17:38.455181Z",
     "iopub.status.idle": "2024-02-25T17:17:38.681872Z",
     "shell.execute_reply": "2024-02-25T17:17:38.680708Z"
    },
    "papermill": {
     "duration": 0.243654,
     "end_time": "2024-02-25T17:17:38.684959",
     "exception": false,
     "start_time": "2024-02-25T17:17:38.441305",
     "status": "completed"
    },
    "tags": []
   },
   "outputs": [],
   "source": [
    "vehicle_sales_data = vehicle_sales_data.drop(vehicle_sales_data.loc[(vehicle_sales_data['model'].isnull())].index)"
   ]
  },
  {
   "cell_type": "code",
   "execution_count": 11,
   "id": "964b9a42",
   "metadata": {
    "execution": {
     "iopub.execute_input": "2024-02-25T17:17:38.712846Z",
     "iopub.status.busy": "2024-02-25T17:17:38.712054Z",
     "iopub.status.idle": "2024-02-25T17:17:39.366842Z",
     "shell.execute_reply": "2024-02-25T17:17:39.365359Z"
    },
    "papermill": {
     "duration": 0.672027,
     "end_time": "2024-02-25T17:17:39.369822",
     "exception": false,
     "start_time": "2024-02-25T17:17:38.697795",
     "status": "completed"
    },
    "tags": []
   },
   "outputs": [
    {
     "name": "stdout",
     "output_type": "stream",
     "text": [
      "<class 'pandas.core.frame.DataFrame'>\n",
      "Index: 548524 entries, 0 to 558836\n",
      "Data columns (total 16 columns):\n",
      " #   Column        Non-Null Count   Dtype  \n",
      "---  ------        --------------   -----  \n",
      " 0   year          548524 non-null  int64  \n",
      " 1   make          548524 non-null  object \n",
      " 2   model         548524 non-null  object \n",
      " 3   trim          548174 non-null  object \n",
      " 4   body          545630 non-null  object \n",
      " 5   transmission  484937 non-null  object \n",
      " 6   vin           548520 non-null  object \n",
      " 7   state         548524 non-null  object \n",
      " 8   condition     536791 non-null  float64\n",
      " 9   odometer      548434 non-null  float64\n",
      " 10  color         547790 non-null  object \n",
      " 11  interior      547790 non-null  object \n",
      " 12  seller        548524 non-null  object \n",
      " 13  mmr           548486 non-null  float64\n",
      " 14  sellingprice  548512 non-null  float64\n",
      " 15  saledate      548512 non-null  object \n",
      "dtypes: float64(4), int64(1), object(11)\n",
      "memory usage: 71.1+ MB\n"
     ]
    }
   ],
   "source": [
    "vehicle_sales_data.info()"
   ]
  },
  {
   "cell_type": "code",
   "execution_count": 12,
   "id": "c1ce3526",
   "metadata": {
    "execution": {
     "iopub.execute_input": "2024-02-25T17:17:39.397169Z",
     "iopub.status.busy": "2024-02-25T17:17:39.396745Z",
     "iopub.status.idle": "2024-02-25T17:17:39.404836Z",
     "shell.execute_reply": "2024-02-25T17:17:39.403472Z"
    },
    "papermill": {
     "duration": 0.024787,
     "end_time": "2024-02-25T17:17:39.407321",
     "exception": false,
     "start_time": "2024-02-25T17:17:39.382534",
     "status": "completed"
    },
    "tags": []
   },
   "outputs": [],
   "source": [
    "def fill(series):\n",
    "    for i in vehicle_sales_data['make'].unique():\n",
    "        if vehicle_sales_data.loc[(vehicle_sales_data['make']==i)][series].mode().empty:\n",
    "            mode = vehicle_sales_data[series].mode()[0]\n",
    "        else:\n",
    "            mode = vehicle_sales_data.loc[(vehicle_sales_data['make']==i)][series].mode()[0]\n",
    "\n",
    "        vehicle_sales_data.loc[(vehicle_sales_data['make']==i)&(vehicle_sales_data[series].isnull()),series]=mode"
   ]
  },
  {
   "cell_type": "code",
   "execution_count": 13,
   "id": "5b55d050",
   "metadata": {
    "execution": {
     "iopub.execute_input": "2024-02-25T17:17:39.435083Z",
     "iopub.status.busy": "2024-02-25T17:17:39.434670Z",
     "iopub.status.idle": "2024-02-25T17:17:39.548733Z",
     "shell.execute_reply": "2024-02-25T17:17:39.547266Z"
    },
    "papermill": {
     "duration": 0.131165,
     "end_time": "2024-02-25T17:17:39.551386",
     "exception": false,
     "start_time": "2024-02-25T17:17:39.420221",
     "status": "completed"
    },
    "tags": []
   },
   "outputs": [
    {
     "name": "stdout",
     "output_type": "stream",
     "text": [
      "make\n",
      "model\n",
      "trim\n",
      "body\n",
      "transmission\n",
      "vin\n",
      "state\n",
      "color\n",
      "interior\n",
      "seller\n",
      "saledate\n"
     ]
    }
   ],
   "source": [
    "for i in vehicle_sales_data.select_dtypes(include = 'object').columns:\n",
    "    print(i)"
   ]
  },
  {
   "cell_type": "code",
   "execution_count": 14,
   "id": "3d5338de",
   "metadata": {
    "execution": {
     "iopub.execute_input": "2024-02-25T17:17:39.578698Z",
     "iopub.status.busy": "2024-02-25T17:17:39.578267Z",
     "iopub.status.idle": "2024-02-25T17:17:39.583814Z",
     "shell.execute_reply": "2024-02-25T17:17:39.582566Z"
    },
    "papermill": {
     "duration": 0.022179,
     "end_time": "2024-02-25T17:17:39.586351",
     "exception": false,
     "start_time": "2024-02-25T17:17:39.564172",
     "status": "completed"
    },
    "tags": []
   },
   "outputs": [],
   "source": [
    "cols = ['body',\n",
    "'transmission',\n",
    "'vin',\n",
    "'state',\n",
    "'color',\n",
    "'interior',\n",
    "'seller']"
   ]
  },
  {
   "cell_type": "code",
   "execution_count": 15,
   "id": "57e010eb",
   "metadata": {
    "execution": {
     "iopub.execute_input": "2024-02-25T17:17:39.613875Z",
     "iopub.status.busy": "2024-02-25T17:17:39.613432Z",
     "iopub.status.idle": "2024-02-25T17:21:53.349460Z",
     "shell.execute_reply": "2024-02-25T17:21:53.348350Z"
    },
    "papermill": {
     "duration": 253.753085,
     "end_time": "2024-02-25T17:21:53.352454",
     "exception": false,
     "start_time": "2024-02-25T17:17:39.599369",
     "status": "completed"
    },
    "tags": []
   },
   "outputs": [],
   "source": [
    "for i in cols:\n",
    "    fill(i)"
   ]
  },
  {
   "cell_type": "code",
   "execution_count": 16,
   "id": "29355242",
   "metadata": {
    "execution": {
     "iopub.execute_input": "2024-02-25T17:21:53.381206Z",
     "iopub.status.busy": "2024-02-25T17:21:53.380376Z",
     "iopub.status.idle": "2024-02-25T17:21:54.040159Z",
     "shell.execute_reply": "2024-02-25T17:21:54.038533Z"
    },
    "papermill": {
     "duration": 0.677242,
     "end_time": "2024-02-25T17:21:54.043020",
     "exception": false,
     "start_time": "2024-02-25T17:21:53.365778",
     "status": "completed"
    },
    "tags": []
   },
   "outputs": [
    {
     "name": "stdout",
     "output_type": "stream",
     "text": [
      "<class 'pandas.core.frame.DataFrame'>\n",
      "Index: 548524 entries, 0 to 558836\n",
      "Data columns (total 16 columns):\n",
      " #   Column        Non-Null Count   Dtype  \n",
      "---  ------        --------------   -----  \n",
      " 0   year          548524 non-null  int64  \n",
      " 1   make          548524 non-null  object \n",
      " 2   model         548524 non-null  object \n",
      " 3   trim          548174 non-null  object \n",
      " 4   body          548524 non-null  object \n",
      " 5   transmission  548524 non-null  object \n",
      " 6   vin           548524 non-null  object \n",
      " 7   state         548524 non-null  object \n",
      " 8   condition     536791 non-null  float64\n",
      " 9   odometer      548434 non-null  float64\n",
      " 10  color         548524 non-null  object \n",
      " 11  interior      548524 non-null  object \n",
      " 12  seller        548524 non-null  object \n",
      " 13  mmr           548486 non-null  float64\n",
      " 14  sellingprice  548512 non-null  float64\n",
      " 15  saledate      548512 non-null  object \n",
      "dtypes: float64(4), int64(1), object(11)\n",
      "memory usage: 71.1+ MB\n"
     ]
    }
   ],
   "source": [
    "vehicle_sales_data.info()"
   ]
  },
  {
   "cell_type": "code",
   "execution_count": 17,
   "id": "ea142bd7",
   "metadata": {
    "execution": {
     "iopub.execute_input": "2024-02-25T17:21:54.070728Z",
     "iopub.status.busy": "2024-02-25T17:21:54.070212Z",
     "iopub.status.idle": "2024-02-25T17:21:54.258603Z",
     "shell.execute_reply": "2024-02-25T17:21:54.257350Z"
    },
    "papermill": {
     "duration": 0.205665,
     "end_time": "2024-02-25T17:21:54.261355",
     "exception": false,
     "start_time": "2024-02-25T17:21:54.055690",
     "status": "completed"
    },
    "tags": []
   },
   "outputs": [],
   "source": [
    "vehicle_sales_data = vehicle_sales_data.drop(vehicle_sales_data[vehicle_sales_data['sellingprice'].isnull()].index)"
   ]
  },
  {
   "cell_type": "code",
   "execution_count": 18,
   "id": "9ca54ee4",
   "metadata": {
    "execution": {
     "iopub.execute_input": "2024-02-25T17:21:54.288689Z",
     "iopub.status.busy": "2024-02-25T17:21:54.288210Z",
     "iopub.status.idle": "2024-02-25T17:21:54.943832Z",
     "shell.execute_reply": "2024-02-25T17:21:54.942668Z"
    },
    "papermill": {
     "duration": 0.672449,
     "end_time": "2024-02-25T17:21:54.946586",
     "exception": false,
     "start_time": "2024-02-25T17:21:54.274137",
     "status": "completed"
    },
    "tags": []
   },
   "outputs": [
    {
     "name": "stdout",
     "output_type": "stream",
     "text": [
      "<class 'pandas.core.frame.DataFrame'>\n",
      "Index: 548512 entries, 0 to 558836\n",
      "Data columns (total 16 columns):\n",
      " #   Column        Non-Null Count   Dtype  \n",
      "---  ------        --------------   -----  \n",
      " 0   year          548512 non-null  int64  \n",
      " 1   make          548512 non-null  object \n",
      " 2   model         548512 non-null  object \n",
      " 3   trim          548162 non-null  object \n",
      " 4   body          548512 non-null  object \n",
      " 5   transmission  548512 non-null  object \n",
      " 6   vin           548512 non-null  object \n",
      " 7   state         548512 non-null  object \n",
      " 8   condition     536779 non-null  float64\n",
      " 9   odometer      548422 non-null  float64\n",
      " 10  color         548512 non-null  object \n",
      " 11  interior      548512 non-null  object \n",
      " 12  seller        548512 non-null  object \n",
      " 13  mmr           548486 non-null  float64\n",
      " 14  sellingprice  548512 non-null  float64\n",
      " 15  saledate      548512 non-null  object \n",
      "dtypes: float64(4), int64(1), object(11)\n",
      "memory usage: 71.1+ MB\n"
     ]
    }
   ],
   "source": [
    "vehicle_sales_data.info()"
   ]
  },
  {
   "cell_type": "code",
   "execution_count": 19,
   "id": "8777f887",
   "metadata": {
    "execution": {
     "iopub.execute_input": "2024-02-25T17:21:54.974022Z",
     "iopub.status.busy": "2024-02-25T17:21:54.973583Z",
     "iopub.status.idle": "2024-02-25T17:21:55.937066Z",
     "shell.execute_reply": "2024-02-25T17:21:55.935948Z"
    },
    "papermill": {
     "duration": 0.980333,
     "end_time": "2024-02-25T17:21:55.939765",
     "exception": false,
     "start_time": "2024-02-25T17:21:54.959432",
     "status": "completed"
    },
    "tags": []
   },
   "outputs": [
    {
     "data": {
      "image/png": "[encoded data removed]",
      "text/plain": [
       "<Figure size 640x480 with 1 Axes>"
      ]
     },
     "metadata": {},
     "output_type": "display_data"
    },
    {
     "data": {
      "image/png": "[encoded data removed]",
      "text/plain": [
       "<Figure size 640x480 with 1 Axes>"
      ]
     },
     "metadata": {},
     "output_type": "display_data"
    },
    {
     "data": {
      "image/png": "[encoded data removed]",
      "text/plain": [
       "<Figure size 640x480 with 1 Axes>"
      ]
     },
     "metadata": {},
     "output_type": "display_data"
    },
    {
     "data": {
      "image/png": "[encoded data removed]",
      "text/plain": [
       "<Figure size 640x480 with 1 Axes>"
      ]
     },
     "metadata": {},
     "output_type": "display_data"
    }
   ],
   "source": [
    "for i in vehicle_sales_data.select_dtypes(include = 'float64').columns:\n",
    "    vehicle_sales_data[[i]].plot(kind = 'box')"
   ]
  },
  {
   "cell_type": "code",
   "execution_count": 20,
   "id": "d0032756",
   "metadata": {
    "execution": {
     "iopub.execute_input": "2024-02-25T17:21:55.970764Z",
     "iopub.status.busy": "2024-02-25T17:21:55.970334Z",
     "iopub.status.idle": "2024-02-25T17:21:55.977894Z",
     "shell.execute_reply": "2024-02-25T17:21:55.976678Z"
    },
    "papermill": {
     "duration": 0.026174,
     "end_time": "2024-02-25T17:21:55.980427",
     "exception": false,
     "start_time": "2024-02-25T17:21:55.954253",
     "status": "completed"
    },
    "tags": []
   },
   "outputs": [],
   "source": [
    "def treat_outlier(df,col):\n",
    "    lower = np.percentile(df[[col]].dropna(),25)\n",
    "    upper = np.percentile(df[[col]].dropna(),75)\n",
    "    IQR = upper-lower\n",
    "    df[col] = np.where(df[col]>upper+(1.5*IQR),upper,np.where(df[col]<lower-(1.5*IQR),lower,df[col]))"
   ]
  },
  {
   "cell_type": "code",
   "execution_count": 21,
   "id": "07b4ec14",
   "metadata": {
    "execution": {
     "iopub.execute_input": "2024-02-25T17:21:56.011350Z",
     "iopub.status.busy": "2024-02-25T17:21:56.010879Z",
     "iopub.status.idle": "2024-02-25T17:21:56.208810Z",
     "shell.execute_reply": "2024-02-25T17:21:56.207491Z"
    },
    "papermill": {
     "duration": 0.216837,
     "end_time": "2024-02-25T17:21:56.211704",
     "exception": false,
     "start_time": "2024-02-25T17:21:55.994867",
     "status": "completed"
    },
    "tags": []
   },
   "outputs": [],
   "source": [
    "for i in vehicle_sales_data.select_dtypes(include = 'float64').columns:\n",
    "    treat_outlier(vehicle_sales_data,i)"
   ]
  },
  {
   "cell_type": "code",
   "execution_count": 22,
   "id": "ce2adcda",
   "metadata": {
    "execution": {
     "iopub.execute_input": "2024-02-25T17:21:56.241726Z",
     "iopub.status.busy": "2024-02-25T17:21:56.241256Z",
     "iopub.status.idle": "2024-02-25T17:21:56.264181Z",
     "shell.execute_reply": "2024-02-25T17:21:56.263194Z"
    },
    "papermill": {
     "duration": 0.04059,
     "end_time": "2024-02-25T17:21:56.266498",
     "exception": false,
     "start_time": "2024-02-25T17:21:56.225908",
     "status": "completed"
    },
    "tags": []
   },
   "outputs": [
    {
     "data": {
      "text/html": [
       "<div>\n",
       "<style scoped>\n",
       "    .dataframe tbody tr th:only-of-type {\n",
       "        vertical-align: middle;\n",
       "    }\n",
       "\n",
       "    .dataframe tbody tr th {\n",
       "        vertical-align: top;\n",
       "    }\n",
       "\n",
       "    .dataframe thead th {\n",
       "        text-align: right;\n",
       "    }\n",
       "</style>\n",
       "<table border=\"1\" class=\"dataframe\">\n",
       "  <thead>\n",
       "    <tr style=\"text-align: right;\">\n",
       "      <th></th>\n",
       "      <th>year</th>\n",
       "      <th>make</th>\n",
       "      <th>model</th>\n",
       "      <th>trim</th>\n",
       "      <th>body</th>\n",
       "      <th>transmission</th>\n",
       "      <th>vin</th>\n",
       "      <th>state</th>\n",
       "      <th>condition</th>\n",
       "      <th>odometer</th>\n",
       "      <th>color</th>\n",
       "      <th>interior</th>\n",
       "      <th>seller</th>\n",
       "      <th>mmr</th>\n",
       "      <th>sellingprice</th>\n",
       "      <th>saledate</th>\n",
       "    </tr>\n",
       "  </thead>\n",
       "  <tbody>\n",
       "    <tr>\n",
       "      <th>0</th>\n",
       "      <td>2015</td>\n",
       "      <td>Kia</td>\n",
       "      <td>Sorento</td>\n",
       "      <td>LX</td>\n",
       "      <td>SUV</td>\n",
       "      <td>automatic</td>\n",
       "      <td>5xyktca69fg566472</td>\n",
       "      <td>ca</td>\n",
       "      <td>5.0</td>\n",
       "      <td>16639.0</td>\n",
       "      <td>white</td>\n",
       "      <td>black</td>\n",
       "      <td>kia motors america  inc</td>\n",
       "      <td>20500.0</td>\n",
       "      <td>21500.0</td>\n",
       "      <td>Tue Dec 16 2014 12:30:00 GMT-0800 (PST)</td>\n",
       "    </tr>\n",
       "    <tr>\n",
       "      <th>1</th>\n",
       "      <td>2015</td>\n",
       "      <td>Kia</td>\n",
       "      <td>Sorento</td>\n",
       "      <td>LX</td>\n",
       "      <td>SUV</td>\n",
       "      <td>automatic</td>\n",
       "      <td>5xyktca69fg561319</td>\n",
       "      <td>ca</td>\n",
       "      <td>5.0</td>\n",
       "      <td>9393.0</td>\n",
       "      <td>white</td>\n",
       "      <td>beige</td>\n",
       "      <td>kia motors america  inc</td>\n",
       "      <td>20800.0</td>\n",
       "      <td>21500.0</td>\n",
       "      <td>Tue Dec 16 2014 12:30:00 GMT-0800 (PST)</td>\n",
       "    </tr>\n",
       "    <tr>\n",
       "      <th>2</th>\n",
       "      <td>2014</td>\n",
       "      <td>BMW</td>\n",
       "      <td>3 Series</td>\n",
       "      <td>328i SULEV</td>\n",
       "      <td>Sedan</td>\n",
       "      <td>automatic</td>\n",
       "      <td>wba3c1c51ek116351</td>\n",
       "      <td>ca</td>\n",
       "      <td>45.0</td>\n",
       "      <td>1331.0</td>\n",
       "      <td>gray</td>\n",
       "      <td>black</td>\n",
       "      <td>financial services remarketing (lease)</td>\n",
       "      <td>31900.0</td>\n",
       "      <td>30000.0</td>\n",
       "      <td>Thu Jan 15 2015 04:30:00 GMT-0800 (PST)</td>\n",
       "    </tr>\n",
       "    <tr>\n",
       "      <th>3</th>\n",
       "      <td>2015</td>\n",
       "      <td>Volvo</td>\n",
       "      <td>S60</td>\n",
       "      <td>T5</td>\n",
       "      <td>Sedan</td>\n",
       "      <td>automatic</td>\n",
       "      <td>yv1612tb4f1310987</td>\n",
       "      <td>ca</td>\n",
       "      <td>41.0</td>\n",
       "      <td>14282.0</td>\n",
       "      <td>white</td>\n",
       "      <td>black</td>\n",
       "      <td>volvo na rep/world omni</td>\n",
       "      <td>27500.0</td>\n",
       "      <td>27750.0</td>\n",
       "      <td>Thu Jan 29 2015 04:30:00 GMT-0800 (PST)</td>\n",
       "    </tr>\n",
       "    <tr>\n",
       "      <th>4</th>\n",
       "      <td>2014</td>\n",
       "      <td>BMW</td>\n",
       "      <td>6 Series Gran Coupe</td>\n",
       "      <td>650i</td>\n",
       "      <td>Sedan</td>\n",
       "      <td>automatic</td>\n",
       "      <td>wba6b2c57ed129731</td>\n",
       "      <td>ca</td>\n",
       "      <td>43.0</td>\n",
       "      <td>2641.0</td>\n",
       "      <td>gray</td>\n",
       "      <td>black</td>\n",
       "      <td>financial services remarketing (lease)</td>\n",
       "      <td>18400.0</td>\n",
       "      <td>18300.0</td>\n",
       "      <td>Thu Dec 18 2014 12:30:00 GMT-0800 (PST)</td>\n",
       "    </tr>\n",
       "  </tbody>\n",
       "</table>\n",
       "</div>"
      ],
      "text/plain": [
       "   year   make                model        trim   body transmission  \\\n",
       "0  2015    Kia              Sorento          LX    SUV    automatic   \n",
       "1  2015    Kia              Sorento          LX    SUV    automatic   \n",
       "2  2014    BMW             3 Series  328i SULEV  Sedan    automatic   \n",
       "3  2015  Volvo                  S60          T5  Sedan    automatic   \n",
       "4  2014    BMW  6 Series Gran Coupe        650i  Sedan    automatic   \n",
       "\n",
       "                 vin state  condition  odometer  color interior  \\\n",
       "0  5xyktca69fg566472    ca        5.0   16639.0  white    black   \n",
       "1  5xyktca69fg561319    ca        5.0    9393.0  white    beige   \n",
       "2  wba3c1c51ek116351    ca       45.0    1331.0   gray    black   \n",
       "3  yv1612tb4f1310987    ca       41.0   14282.0  white    black   \n",
       "4  wba6b2c57ed129731    ca       43.0    2641.0   gray    black   \n",
       "\n",
       "                                   seller      mmr  sellingprice  \\\n",
       "0                 kia motors america  inc  20500.0       21500.0   \n",
       "1                 kia motors america  inc  20800.0       21500.0   \n",
       "2  financial services remarketing (lease)  31900.0       30000.0   \n",
       "3                 volvo na rep/world omni  27500.0       27750.0   \n",
       "4  financial services remarketing (lease)  18400.0       18300.0   \n",
       "\n",
       "                                  saledate  \n",
       "0  Tue Dec 16 2014 12:30:00 GMT-0800 (PST)  \n",
       "1  Tue Dec 16 2014 12:30:00 GMT-0800 (PST)  \n",
       "2  Thu Jan 15 2015 04:30:00 GMT-0800 (PST)  \n",
       "3  Thu Jan 29 2015 04:30:00 GMT-0800 (PST)  \n",
       "4  Thu Dec 18 2014 12:30:00 GMT-0800 (PST)  "
      ]
     },
     "execution_count": 22,
     "metadata": {},
     "output_type": "execute_result"
    }
   ],
   "source": [
    "vehicle_sales_data.head()"
   ]
  },
  {
   "cell_type": "code",
   "execution_count": 23,
   "id": "5bad45f2",
   "metadata": {
    "execution": {
     "iopub.execute_input": "2024-02-25T17:21:56.297807Z",
     "iopub.status.busy": "2024-02-25T17:21:56.297358Z",
     "iopub.status.idle": "2024-02-25T17:21:57.164845Z",
     "shell.execute_reply": "2024-02-25T17:21:57.163516Z"
    },
    "papermill": {
     "duration": 0.886247,
     "end_time": "2024-02-25T17:21:57.167414",
     "exception": false,
     "start_time": "2024-02-25T17:21:56.281167",
     "status": "completed"
    },
    "tags": []
   },
   "outputs": [
    {
     "data": {
      "image/png": "[encoded data removed]",
      "text/plain": [
       "<Figure size 640x480 with 1 Axes>"
      ]
     },
     "metadata": {},
     "output_type": "display_data"
    },
    {
     "data": {
      "image/png": "[encoded data removed]",
      "text/plain": [
       "<Figure size 640x480 with 1 Axes>"
      ]
     },
     "metadata": {},
     "output_type": "display_data"
    },
    {
     "data": {
      "image/png": "[encoded data removed]",
      "text/plain": [
       "<Figure size 640x480 with 1 Axes>"
      ]
     },
     "metadata": {},
     "output_type": "display_data"
    },
    {
     "data": {
      "image/png": "[encoded data removed]",
      "text/plain": [
       "<Figure size 640x480 with 1 Axes>"
      ]
     },
     "metadata": {},
     "output_type": "display_data"
    }
   ],
   "source": [
    "for i in vehicle_sales_data.select_dtypes(include = 'float64').columns:\n",
    "    vehicle_sales_data[[i]].plot(kind = 'box')"
   ]
  },
  {
   "cell_type": "code",
   "execution_count": 24,
   "id": "343b755f",
   "metadata": {
    "execution": {
     "iopub.execute_input": "2024-02-25T17:21:57.201181Z",
     "iopub.status.busy": "2024-02-25T17:21:57.200744Z",
     "iopub.status.idle": "2024-02-25T17:21:57.859093Z",
     "shell.execute_reply": "2024-02-25T17:21:57.857932Z"
    },
    "papermill": {
     "duration": 0.678288,
     "end_time": "2024-02-25T17:21:57.861687",
     "exception": false,
     "start_time": "2024-02-25T17:21:57.183399",
     "status": "completed"
    },
    "tags": []
   },
   "outputs": [
    {
     "name": "stdout",
     "output_type": "stream",
     "text": [
      "<class 'pandas.core.frame.DataFrame'>\n",
      "Index: 548512 entries, 0 to 558836\n",
      "Data columns (total 16 columns):\n",
      " #   Column        Non-Null Count   Dtype  \n",
      "---  ------        --------------   -----  \n",
      " 0   year          548512 non-null  int64  \n",
      " 1   make          548512 non-null  object \n",
      " 2   model         548512 non-null  object \n",
      " 3   trim          548162 non-null  object \n",
      " 4   body          548512 non-null  object \n",
      " 5   transmission  548512 non-null  object \n",
      " 6   vin           548512 non-null  object \n",
      " 7   state         548512 non-null  object \n",
      " 8   condition     536779 non-null  float64\n",
      " 9   odometer      548422 non-null  float64\n",
      " 10  color         548512 non-null  object \n",
      " 11  interior      548512 non-null  object \n",
      " 12  seller        548512 non-null  object \n",
      " 13  mmr           548486 non-null  float64\n",
      " 14  sellingprice  548512 non-null  float64\n",
      " 15  saledate      548512 non-null  object \n",
      "dtypes: float64(4), int64(1), object(11)\n",
      "memory usage: 71.1+ MB\n"
     ]
    }
   ],
   "source": [
    "vehicle_sales_data.info()"
   ]
  },
  {
   "cell_type": "code",
   "execution_count": 25,
   "id": "1195065f",
   "metadata": {
    "execution": {
     "iopub.execute_input": "2024-02-25T17:21:57.895512Z",
     "iopub.status.busy": "2024-02-25T17:21:57.895119Z",
     "iopub.status.idle": "2024-02-25T17:21:58.245093Z",
     "shell.execute_reply": "2024-02-25T17:21:58.243541Z"
    },
    "papermill": {
     "duration": 0.370148,
     "end_time": "2024-02-25T17:21:58.247842",
     "exception": false,
     "start_time": "2024-02-25T17:21:57.877694",
     "status": "completed"
    },
    "tags": []
   },
   "outputs": [],
   "source": [
    "vehicle_sales_data = vehicle_sales_data.drop(vehicle_sales_data[vehicle_sales_data.trim.isnull()].index).drop('vin', axis = 1)"
   ]
  },
  {
   "cell_type": "code",
   "execution_count": 26,
   "id": "76a3908e",
   "metadata": {
    "execution": {
     "iopub.execute_input": "2024-02-25T17:21:58.282449Z",
     "iopub.status.busy": "2024-02-25T17:21:58.282025Z",
     "iopub.status.idle": "2024-02-25T17:21:58.882768Z",
     "shell.execute_reply": "2024-02-25T17:21:58.881373Z"
    },
    "papermill": {
     "duration": 0.621115,
     "end_time": "2024-02-25T17:21:58.885425",
     "exception": false,
     "start_time": "2024-02-25T17:21:58.264310",
     "status": "completed"
    },
    "tags": []
   },
   "outputs": [
    {
     "name": "stdout",
     "output_type": "stream",
     "text": [
      "<class 'pandas.core.frame.DataFrame'>\n",
      "Index: 548162 entries, 0 to 558836\n",
      "Data columns (total 15 columns):\n",
      " #   Column        Non-Null Count   Dtype  \n",
      "---  ------        --------------   -----  \n",
      " 0   year          548162 non-null  int64  \n",
      " 1   make          548162 non-null  object \n",
      " 2   model         548162 non-null  object \n",
      " 3   trim          548162 non-null  object \n",
      " 4   body          548162 non-null  object \n",
      " 5   transmission  548162 non-null  object \n",
      " 6   state         548162 non-null  object \n",
      " 7   condition     536501 non-null  float64\n",
      " 8   odometer      548074 non-null  float64\n",
      " 9   color         548162 non-null  object \n",
      " 10  interior      548162 non-null  object \n",
      " 11  seller        548162 non-null  object \n",
      " 12  mmr           548136 non-null  float64\n",
      " 13  sellingprice  548162 non-null  float64\n",
      " 14  saledate      548162 non-null  object \n",
      "dtypes: float64(4), int64(1), object(10)\n",
      "memory usage: 66.9+ MB\n"
     ]
    }
   ],
   "source": [
    "vehicle_sales_data.info()"
   ]
  },
  {
   "cell_type": "code",
   "execution_count": 27,
   "id": "f168494a",
   "metadata": {
    "execution": {
     "iopub.execute_input": "2024-02-25T17:21:58.920678Z",
     "iopub.status.busy": "2024-02-25T17:21:58.919982Z",
     "iopub.status.idle": "2024-02-25T17:21:58.983457Z",
     "shell.execute_reply": "2024-02-25T17:21:58.981976Z"
    },
    "papermill": {
     "duration": 0.084494,
     "end_time": "2024-02-25T17:21:58.986606",
     "exception": false,
     "start_time": "2024-02-25T17:21:58.902112",
     "status": "completed"
    },
    "tags": []
   },
   "outputs": [],
   "source": [
    "for i in vehicle_sales_data.select_dtypes(include = 'float64').columns:\n",
    "    vehicle_sales_data[i] = vehicle_sales_data[i].fillna(vehicle_sales_data[i].mean())"
   ]
  },
  {
   "cell_type": "code",
   "execution_count": 28,
   "id": "978dbcb5",
   "metadata": {
    "execution": {
     "iopub.execute_input": "2024-02-25T17:21:59.022965Z",
     "iopub.status.busy": "2024-02-25T17:21:59.022218Z",
     "iopub.status.idle": "2024-02-25T17:21:59.627829Z",
     "shell.execute_reply": "2024-02-25T17:21:59.625436Z"
    },
    "papermill": {
     "duration": 0.627793,
     "end_time": "2024-02-25T17:21:59.630901",
     "exception": false,
     "start_time": "2024-02-25T17:21:59.003108",
     "status": "completed"
    },
    "tags": []
   },
   "outputs": [
    {
     "name": "stdout",
     "output_type": "stream",
     "text": [
      "<class 'pandas.core.frame.DataFrame'>\n",
      "Index: 548162 entries, 0 to 558836\n",
      "Data columns (total 15 columns):\n",
      " #   Column        Non-Null Count   Dtype  \n",
      "---  ------        --------------   -----  \n",
      " 0   year          548162 non-null  int64  \n",
      " 1   make          548162 non-null  object \n",
      " 2   model         548162 non-null  object \n",
      " 3   trim          548162 non-null  object \n",
      " 4   body          548162 non-null  object \n",
      " 5   transmission  548162 non-null  object \n",
      " 6   state         548162 non-null  object \n",
      " 7   condition     548162 non-null  float64\n",
      " 8   odometer      548162 non-null  float64\n",
      " 9   color         548162 non-null  object \n",
      " 10  interior      548162 non-null  object \n",
      " 11  seller        548162 non-null  object \n",
      " 12  mmr           548162 non-null  float64\n",
      " 13  sellingprice  548162 non-null  float64\n",
      " 14  saledate      548162 non-null  object \n",
      "dtypes: float64(4), int64(1), object(10)\n",
      "memory usage: 66.9+ MB\n"
     ]
    }
   ],
   "source": [
    "vehicle_sales_data.info()"
   ]
  },
  {
   "cell_type": "code",
   "execution_count": 29,
   "id": "ed981063",
   "metadata": {
    "execution": {
     "iopub.execute_input": "2024-02-25T17:21:59.677820Z",
     "iopub.status.busy": "2024-02-25T17:21:59.676662Z",
     "iopub.status.idle": "2024-02-25T17:21:59.700995Z",
     "shell.execute_reply": "2024-02-25T17:21:59.699784Z"
    },
    "papermill": {
     "duration": 0.053458,
     "end_time": "2024-02-25T17:21:59.704038",
     "exception": false,
     "start_time": "2024-02-25T17:21:59.650580",
     "status": "completed"
    },
    "tags": []
   },
   "outputs": [
    {
     "data": {
      "text/html": [
       "<div>\n",
       "<style scoped>\n",
       "    .dataframe tbody tr th:only-of-type {\n",
       "        vertical-align: middle;\n",
       "    }\n",
       "\n",
       "    .dataframe tbody tr th {\n",
       "        vertical-align: top;\n",
       "    }\n",
       "\n",
       "    .dataframe thead th {\n",
       "        text-align: right;\n",
       "    }\n",
       "</style>\n",
       "<table border=\"1\" class=\"dataframe\">\n",
       "  <thead>\n",
       "    <tr style=\"text-align: right;\">\n",
       "      <th></th>\n",
       "      <th>year</th>\n",
       "      <th>make</th>\n",
       "      <th>model</th>\n",
       "      <th>trim</th>\n",
       "      <th>body</th>\n",
       "      <th>transmission</th>\n",
       "      <th>state</th>\n",
       "      <th>condition</th>\n",
       "      <th>odometer</th>\n",
       "      <th>color</th>\n",
       "      <th>interior</th>\n",
       "      <th>seller</th>\n",
       "      <th>mmr</th>\n",
       "      <th>sellingprice</th>\n",
       "      <th>saledate</th>\n",
       "    </tr>\n",
       "  </thead>\n",
       "  <tbody>\n",
       "    <tr>\n",
       "      <th>0</th>\n",
       "      <td>2015</td>\n",
       "      <td>Kia</td>\n",
       "      <td>Sorento</td>\n",
       "      <td>LX</td>\n",
       "      <td>SUV</td>\n",
       "      <td>automatic</td>\n",
       "      <td>ca</td>\n",
       "      <td>5.0</td>\n",
       "      <td>16639.0</td>\n",
       "      <td>white</td>\n",
       "      <td>black</td>\n",
       "      <td>kia motors america  inc</td>\n",
       "      <td>20500.0</td>\n",
       "      <td>21500.0</td>\n",
       "      <td>Tue Dec 16 2014 12:30:00 GMT-0800 (PST)</td>\n",
       "    </tr>\n",
       "    <tr>\n",
       "      <th>1</th>\n",
       "      <td>2015</td>\n",
       "      <td>Kia</td>\n",
       "      <td>Sorento</td>\n",
       "      <td>LX</td>\n",
       "      <td>SUV</td>\n",
       "      <td>automatic</td>\n",
       "      <td>ca</td>\n",
       "      <td>5.0</td>\n",
       "      <td>9393.0</td>\n",
       "      <td>white</td>\n",
       "      <td>beige</td>\n",
       "      <td>kia motors america  inc</td>\n",
       "      <td>20800.0</td>\n",
       "      <td>21500.0</td>\n",
       "      <td>Tue Dec 16 2014 12:30:00 GMT-0800 (PST)</td>\n",
       "    </tr>\n",
       "    <tr>\n",
       "      <th>2</th>\n",
       "      <td>2014</td>\n",
       "      <td>BMW</td>\n",
       "      <td>3 Series</td>\n",
       "      <td>328i SULEV</td>\n",
       "      <td>Sedan</td>\n",
       "      <td>automatic</td>\n",
       "      <td>ca</td>\n",
       "      <td>45.0</td>\n",
       "      <td>1331.0</td>\n",
       "      <td>gray</td>\n",
       "      <td>black</td>\n",
       "      <td>financial services remarketing (lease)</td>\n",
       "      <td>31900.0</td>\n",
       "      <td>30000.0</td>\n",
       "      <td>Thu Jan 15 2015 04:30:00 GMT-0800 (PST)</td>\n",
       "    </tr>\n",
       "    <tr>\n",
       "      <th>3</th>\n",
       "      <td>2015</td>\n",
       "      <td>Volvo</td>\n",
       "      <td>S60</td>\n",
       "      <td>T5</td>\n",
       "      <td>Sedan</td>\n",
       "      <td>automatic</td>\n",
       "      <td>ca</td>\n",
       "      <td>41.0</td>\n",
       "      <td>14282.0</td>\n",
       "      <td>white</td>\n",
       "      <td>black</td>\n",
       "      <td>volvo na rep/world omni</td>\n",
       "      <td>27500.0</td>\n",
       "      <td>27750.0</td>\n",
       "      <td>Thu Jan 29 2015 04:30:00 GMT-0800 (PST)</td>\n",
       "    </tr>\n",
       "    <tr>\n",
       "      <th>4</th>\n",
       "      <td>2014</td>\n",
       "      <td>BMW</td>\n",
       "      <td>6 Series Gran Coupe</td>\n",
       "      <td>650i</td>\n",
       "      <td>Sedan</td>\n",
       "      <td>automatic</td>\n",
       "      <td>ca</td>\n",
       "      <td>43.0</td>\n",
       "      <td>2641.0</td>\n",
       "      <td>gray</td>\n",
       "      <td>black</td>\n",
       "      <td>financial services remarketing (lease)</td>\n",
       "      <td>18400.0</td>\n",
       "      <td>18300.0</td>\n",
       "      <td>Thu Dec 18 2014 12:30:00 GMT-0800 (PST)</td>\n",
       "    </tr>\n",
       "  </tbody>\n",
       "</table>\n",
       "</div>"
      ],
      "text/plain": [
       "   year   make                model        trim   body transmission state  \\\n",
       "0  2015    Kia              Sorento          LX    SUV    automatic    ca   \n",
       "1  2015    Kia              Sorento          LX    SUV    automatic    ca   \n",
       "2  2014    BMW             3 Series  328i SULEV  Sedan    automatic    ca   \n",
       "3  2015  Volvo                  S60          T5  Sedan    automatic    ca   \n",
       "4  2014    BMW  6 Series Gran Coupe        650i  Sedan    automatic    ca   \n",
       "\n",
       "   condition  odometer  color interior  \\\n",
       "0        5.0   16639.0  white    black   \n",
       "1        5.0    9393.0  white    beige   \n",
       "2       45.0    1331.0   gray    black   \n",
       "3       41.0   14282.0  white    black   \n",
       "4       43.0    2641.0   gray    black   \n",
       "\n",
       "                                   seller      mmr  sellingprice  \\\n",
       "0                 kia motors america  inc  20500.0       21500.0   \n",
       "1                 kia motors america  inc  20800.0       21500.0   \n",
       "2  financial services remarketing (lease)  31900.0       30000.0   \n",
       "3                 volvo na rep/world omni  27500.0       27750.0   \n",
       "4  financial services remarketing (lease)  18400.0       18300.0   \n",
       "\n",
       "                                  saledate  \n",
       "0  Tue Dec 16 2014 12:30:00 GMT-0800 (PST)  \n",
       "1  Tue Dec 16 2014 12:30:00 GMT-0800 (PST)  \n",
       "2  Thu Jan 15 2015 04:30:00 GMT-0800 (PST)  \n",
       "3  Thu Jan 29 2015 04:30:00 GMT-0800 (PST)  \n",
       "4  Thu Dec 18 2014 12:30:00 GMT-0800 (PST)  "
      ]
     },
     "execution_count": 29,
     "metadata": {},
     "output_type": "execute_result"
    }
   ],
   "source": [
    "vehicle_sales_data.head()"
   ]
  },
  {
   "cell_type": "code",
   "execution_count": 30,
   "id": "acf449fb",
   "metadata": {
    "execution": {
     "iopub.execute_input": "2024-02-25T17:21:59.746213Z",
     "iopub.status.busy": "2024-02-25T17:21:59.745758Z",
     "iopub.status.idle": "2024-02-25T17:22:00.186467Z",
     "shell.execute_reply": "2024-02-25T17:22:00.185505Z"
    },
    "papermill": {
     "duration": 0.46442,
     "end_time": "2024-02-25T17:22:00.189535",
     "exception": false,
     "start_time": "2024-02-25T17:21:59.725115",
     "status": "completed"
    },
    "tags": []
   },
   "outputs": [
    {
     "name": "stdout",
     "output_type": "stream",
     "text": [
      "[39  5  4]\n"
     ]
    }
   ],
   "source": [
    "vehicle_sales_data['len'] = vehicle_sales_data['saledate'].apply(lambda x:len(x))\n",
    "print(vehicle_sales_data['len'].unique())\n",
    "vehicle_sales_data.loc[(vehicle_sales_data['len']==5)|(vehicle_sales_data['len']==4),'saledate'] = 'Thu Dec 18 2014 12:30:00 '"
   ]
  },
  {
   "cell_type": "code",
   "execution_count": 31,
   "id": "a297ae50",
   "metadata": {
    "execution": {
     "iopub.execute_input": "2024-02-25T17:22:00.238178Z",
     "iopub.status.busy": "2024-02-25T17:22:00.236955Z",
     "iopub.status.idle": "2024-02-25T17:22:11.847385Z",
     "shell.execute_reply": "2024-02-25T17:22:11.846109Z"
    },
    "papermill": {
     "duration": 11.635585,
     "end_time": "2024-02-25T17:22:11.850362",
     "exception": false,
     "start_time": "2024-02-25T17:22:00.214777",
     "status": "completed"
    },
    "tags": []
   },
   "outputs": [],
   "source": [
    "vehicle_sales_data['saledate'] = vehicle_sales_data['saledate'].apply(lambda x:datetime.datetime.strptime(x[:x.find('GMT')].strip(),'%a %b %d %Y %H:%M:%S'))"
   ]
  },
  {
   "cell_type": "code",
   "execution_count": 32,
   "id": "0400640f",
   "metadata": {
    "execution": {
     "iopub.execute_input": "2024-02-25T17:22:11.886458Z",
     "iopub.status.busy": "2024-02-25T17:22:11.886023Z",
     "iopub.status.idle": "2024-02-25T17:22:12.354876Z",
     "shell.execute_reply": "2024-02-25T17:22:12.353591Z"
    },
    "papermill": {
     "duration": 0.490133,
     "end_time": "2024-02-25T17:22:12.357637",
     "exception": false,
     "start_time": "2024-02-25T17:22:11.867504",
     "status": "completed"
    },
    "tags": []
   },
   "outputs": [],
   "source": [
    "vehicle_sales_data['sale_year'] = vehicle_sales_data['saledate'].dt.year\n",
    "vehicle_sales_data['sale_month'] = vehicle_sales_data['saledate'].dt.month\n",
    "vehicle_sales_data['sale_day'] = vehicle_sales_data['saledate'].dt.day\n",
    "vehicle_sales_data['sale_time'] = vehicle_sales_data['saledate'].dt.time"
   ]
  },
  {
   "cell_type": "code",
   "execution_count": 33,
   "id": "7e842ce9",
   "metadata": {
    "execution": {
     "iopub.execute_input": "2024-02-25T17:22:12.393060Z",
     "iopub.status.busy": "2024-02-25T17:22:12.392629Z",
     "iopub.status.idle": "2024-02-25T17:22:12.417950Z",
     "shell.execute_reply": "2024-02-25T17:22:12.416702Z"
    },
    "papermill": {
     "duration": 0.046089,
     "end_time": "2024-02-25T17:22:12.420593",
     "exception": false,
     "start_time": "2024-02-25T17:22:12.374504",
     "status": "completed"
    },
    "tags": []
   },
   "outputs": [
    {
     "data": {
      "text/html": [
       "<div>\n",
       "<style scoped>\n",
       "    .dataframe tbody tr th:only-of-type {\n",
       "        vertical-align: middle;\n",
       "    }\n",
       "\n",
       "    .dataframe tbody tr th {\n",
       "        vertical-align: top;\n",
       "    }\n",
       "\n",
       "    .dataframe thead th {\n",
       "        text-align: right;\n",
       "    }\n",
       "</style>\n",
       "<table border=\"1\" class=\"dataframe\">\n",
       "  <thead>\n",
       "    <tr style=\"text-align: right;\">\n",
       "      <th></th>\n",
       "      <th>year</th>\n",
       "      <th>make</th>\n",
       "      <th>model</th>\n",
       "      <th>trim</th>\n",
       "      <th>body</th>\n",
       "      <th>transmission</th>\n",
       "      <th>state</th>\n",
       "      <th>condition</th>\n",
       "      <th>odometer</th>\n",
       "      <th>color</th>\n",
       "      <th>interior</th>\n",
       "      <th>seller</th>\n",
       "      <th>mmr</th>\n",
       "      <th>sellingprice</th>\n",
       "      <th>saledate</th>\n",
       "      <th>len</th>\n",
       "      <th>sale_year</th>\n",
       "      <th>sale_month</th>\n",
       "      <th>sale_day</th>\n",
       "      <th>sale_time</th>\n",
       "    </tr>\n",
       "  </thead>\n",
       "  <tbody>\n",
       "    <tr>\n",
       "      <th>0</th>\n",
       "      <td>2015</td>\n",
       "      <td>Kia</td>\n",
       "      <td>Sorento</td>\n",
       "      <td>LX</td>\n",
       "      <td>SUV</td>\n",
       "      <td>automatic</td>\n",
       "      <td>ca</td>\n",
       "      <td>5.0</td>\n",
       "      <td>16639.0</td>\n",
       "      <td>white</td>\n",
       "      <td>black</td>\n",
       "      <td>kia motors america  inc</td>\n",
       "      <td>20500.0</td>\n",
       "      <td>21500.0</td>\n",
       "      <td>2014-12-16 12:30:00</td>\n",
       "      <td>39</td>\n",
       "      <td>2014</td>\n",
       "      <td>12</td>\n",
       "      <td>16</td>\n",
       "      <td>12:30:00</td>\n",
       "    </tr>\n",
       "    <tr>\n",
       "      <th>1</th>\n",
       "      <td>2015</td>\n",
       "      <td>Kia</td>\n",
       "      <td>Sorento</td>\n",
       "      <td>LX</td>\n",
       "      <td>SUV</td>\n",
       "      <td>automatic</td>\n",
       "      <td>ca</td>\n",
       "      <td>5.0</td>\n",
       "      <td>9393.0</td>\n",
       "      <td>white</td>\n",
       "      <td>beige</td>\n",
       "      <td>kia motors america  inc</td>\n",
       "      <td>20800.0</td>\n",
       "      <td>21500.0</td>\n",
       "      <td>2014-12-16 12:30:00</td>\n",
       "      <td>39</td>\n",
       "      <td>2014</td>\n",
       "      <td>12</td>\n",
       "      <td>16</td>\n",
       "      <td>12:30:00</td>\n",
       "    </tr>\n",
       "    <tr>\n",
       "      <th>2</th>\n",
       "      <td>2014</td>\n",
       "      <td>BMW</td>\n",
       "      <td>3 Series</td>\n",
       "      <td>328i SULEV</td>\n",
       "      <td>Sedan</td>\n",
       "      <td>automatic</td>\n",
       "      <td>ca</td>\n",
       "      <td>45.0</td>\n",
       "      <td>1331.0</td>\n",
       "      <td>gray</td>\n",
       "      <td>black</td>\n",
       "      <td>financial services remarketing (lease)</td>\n",
       "      <td>31900.0</td>\n",
       "      <td>30000.0</td>\n",
       "      <td>2015-01-15 04:30:00</td>\n",
       "      <td>39</td>\n",
       "      <td>2015</td>\n",
       "      <td>1</td>\n",
       "      <td>15</td>\n",
       "      <td>04:30:00</td>\n",
       "    </tr>\n",
       "    <tr>\n",
       "      <th>3</th>\n",
       "      <td>2015</td>\n",
       "      <td>Volvo</td>\n",
       "      <td>S60</td>\n",
       "      <td>T5</td>\n",
       "      <td>Sedan</td>\n",
       "      <td>automatic</td>\n",
       "      <td>ca</td>\n",
       "      <td>41.0</td>\n",
       "      <td>14282.0</td>\n",
       "      <td>white</td>\n",
       "      <td>black</td>\n",
       "      <td>volvo na rep/world omni</td>\n",
       "      <td>27500.0</td>\n",
       "      <td>27750.0</td>\n",
       "      <td>2015-01-29 04:30:00</td>\n",
       "      <td>39</td>\n",
       "      <td>2015</td>\n",
       "      <td>1</td>\n",
       "      <td>29</td>\n",
       "      <td>04:30:00</td>\n",
       "    </tr>\n",
       "    <tr>\n",
       "      <th>4</th>\n",
       "      <td>2014</td>\n",
       "      <td>BMW</td>\n",
       "      <td>6 Series Gran Coupe</td>\n",
       "      <td>650i</td>\n",
       "      <td>Sedan</td>\n",
       "      <td>automatic</td>\n",
       "      <td>ca</td>\n",
       "      <td>43.0</td>\n",
       "      <td>2641.0</td>\n",
       "      <td>gray</td>\n",
       "      <td>black</td>\n",
       "      <td>financial services remarketing (lease)</td>\n",
       "      <td>18400.0</td>\n",
       "      <td>18300.0</td>\n",
       "      <td>2014-12-18 12:30:00</td>\n",
       "      <td>39</td>\n",
       "      <td>2014</td>\n",
       "      <td>12</td>\n",
       "      <td>18</td>\n",
       "      <td>12:30:00</td>\n",
       "    </tr>\n",
       "  </tbody>\n",
       "</table>\n",
       "</div>"
      ],
      "text/plain": [
       "   year   make                model        trim   body transmission state  \\\n",
       "0  2015    Kia              Sorento          LX    SUV    automatic    ca   \n",
       "1  2015    Kia              Sorento          LX    SUV    automatic    ca   \n",
       "2  2014    BMW             3 Series  328i SULEV  Sedan    automatic    ca   \n",
       "3  2015  Volvo                  S60          T5  Sedan    automatic    ca   \n",
       "4  2014    BMW  6 Series Gran Coupe        650i  Sedan    automatic    ca   \n",
       "\n",
       "   condition  odometer  color interior  \\\n",
       "0        5.0   16639.0  white    black   \n",
       "1        5.0    9393.0  white    beige   \n",
       "2       45.0    1331.0   gray    black   \n",
       "3       41.0   14282.0  white    black   \n",
       "4       43.0    2641.0   gray    black   \n",
       "\n",
       "                                   seller      mmr  sellingprice  \\\n",
       "0                 kia motors america  inc  20500.0       21500.0   \n",
       "1                 kia motors america  inc  20800.0       21500.0   \n",
       "2  financial services remarketing (lease)  31900.0       30000.0   \n",
       "3                 volvo na rep/world omni  27500.0       27750.0   \n",
       "4  financial services remarketing (lease)  18400.0       18300.0   \n",
       "\n",
       "             saledate  len  sale_year  sale_month  sale_day sale_time  \n",
       "0 2014-12-16 12:30:00   39       2014          12        16  12:30:00  \n",
       "1 2014-12-16 12:30:00   39       2014          12        16  12:30:00  \n",
       "2 2015-01-15 04:30:00   39       2015           1        15  04:30:00  \n",
       "3 2015-01-29 04:30:00   39       2015           1        29  04:30:00  \n",
       "4 2014-12-18 12:30:00   39       2014          12        18  12:30:00  "
      ]
     },
     "execution_count": 33,
     "metadata": {},
     "output_type": "execute_result"
    }
   ],
   "source": [
    "vehicle_sales_data.head()"
   ]
  },
  {
   "cell_type": "code",
   "execution_count": null,
   "id": "c939592e",
   "metadata": {
    "papermill": {
     "duration": 0.017312,
     "end_time": "2024-02-25T17:22:12.455794",
     "exception": false,
     "start_time": "2024-02-25T17:22:12.438482",
     "status": "completed"
    },
    "tags": []
   },
   "outputs": [],
   "source": []
  }
 ],
 "metadata": {
  "kaggle": {
   "accelerator": "none",
   "dataSources": [
    {
     "datasetId": 4476093,
     "sourceId": 7673611,
     "sourceType": "datasetVersion"
    }
   ],
   "dockerImageVersionId": 30646,
   "isGpuEnabled": false,
   "isInternetEnabled": true,
   "language": "python",
   "sourceType": "notebook"
  },
  "kernelspec": {
   "display_name": "Python 3",
   "language": "python",
   "name": "python3"
  },
  "language_info": {
   "codemirror_mode": {
    "name": "ipython",
    "version": 3
   },
   "file_extension": ".py",
   "mimetype": "text/x-python",
   "name": "python",
   "nbconvert_exporter": "python",
   "pygments_lexer": "ipython3",
   "version": "3.10.13"
  },
  "papermill": {
   "default_parameters": {},
   "duration": 285.873035,
   "end_time": "2024-02-25T17:22:13.196480",
   "environment_variables": {},
   "exception": null,
   "input_path": "__notebook__.ipynb",
   "output_path": "__notebook__.ipynb",
   "parameters": {},
   "start_time": "2024-02-25T17:17:27.323445",
   "version": "2.5.0"
  }
 },
 "nbformat": 4,
 "nbformat_minor": 5
}
