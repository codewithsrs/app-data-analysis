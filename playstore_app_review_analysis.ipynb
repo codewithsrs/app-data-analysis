{
  "nbformat": 4,
  "nbformat_minor": 0,
  "metadata": {
    "colab": {
      "name": "playstore_app_review_analysis.ipynb",
      "provenance": [],
      "collapsed_sections": [],
      "mount_file_id": "1rKrC49BJz-Jm6-lubO4hEkL9m2oA_Yjp",
      "authorship_tag": "ABX9TyMXqYCcbuSrwb752+FBPAaT",
      "include_colab_link": true
    },
    "kernelspec": {
      "display_name": "Python 3",
      "name": "python3"
    },
    "language_info": {
      "name": "python"
    }
  },
  "cells": [
    {
      "cell_type": "markdown",
      "metadata": {
        "id": "view-in-github",
        "colab_type": "text"
      },
      "source": [
        "<a href=\"https://colab.research.google.com/github/codewithsrs/app-data-analysis/blob/main/playstore_app_review_analysis.ipynb\" target=\"_parent\"><img src=\"https://colab.research.google.com/assets/colab-badge.svg\" alt=\"Open In Colab\"/></a>"
      ]
    },
    {
      "cell_type": "code",
      "metadata": {
        "id": "ZCz42THGx_JZ"
      },
      "source": [
        "import pandas as pd\n",
        "import numpy as np\n",
        "import matplotlib.pyplot as plt\n",
        "import datetime"
      ],
      "execution_count": 1,
      "outputs": []
    },
    {
      "cell_type": "markdown",
      "metadata": {
        "id": "uvXWI_LXzdEf"
      },
      "source": [
        "We imported the necessary libraries that can be needed for our EDA."
      ]
    },
    {
      "cell_type": "markdown",
      "metadata": {
        "id": "Io5g9x8ZFiXv"
      },
      "source": [
        "**Lets read the file as play_df and reviews_df for play_store data and user_reviews data**"
      ]
    },
    {
      "cell_type": "code",
      "metadata": {
        "id": "gxFFJpW_y3wl"
      },
      "source": [
        "play_df = pd.read_csv(\"/content/drive/MyDrive/Copy of Play Store Data.csv\")\n",
        "reviews_df = pd.read_csv(\"/content/drive/MyDrive/Copy of User Reviews.csv\")"
      ],
      "execution_count": 2,
      "outputs": []
    },
    {
      "cell_type": "code",
      "metadata": {
        "colab": {
          "base_uri": "https://localhost:8080/",
          "height": 162
        },
        "id": "IYo6HGg9F_lv",
        "outputId": "c0cd238b-43a9-4a61-aacd-c4c43f26e814"
      },
      "source": [
        "play_df.head(2)"
      ],
      "execution_count": 3,
      "outputs": [
        {
          "output_type": "execute_result",
          "data": {
            "text/html": [
              "<div>\n",
              "<style scoped>\n",
              "    .dataframe tbody tr th:only-of-type {\n",
              "        vertical-align: middle;\n",
              "    }\n",
              "\n",
              "    .dataframe tbody tr th {\n",
              "        vertical-align: top;\n",
              "    }\n",
              "\n",
              "    .dataframe thead th {\n",
              "        text-align: right;\n",
              "    }\n",
              "</style>\n",
              "<table border=\"1\" class=\"dataframe\">\n",
              "  <thead>\n",
              "    <tr style=\"text-align: right;\">\n",
              "      <th></th>\n",
              "      <th>App</th>\n",
              "      <th>Category</th>\n",
              "      <th>Rating</th>\n",
              "      <th>Reviews</th>\n",
              "      <th>Size</th>\n",
              "      <th>Installs</th>\n",
              "      <th>Type</th>\n",
              "      <th>Price</th>\n",
              "      <th>Content Rating</th>\n",
              "      <th>Genres</th>\n",
              "      <th>Last Updated</th>\n",
              "      <th>Current Ver</th>\n",
              "      <th>Android Ver</th>\n",
              "    </tr>\n",
              "  </thead>\n",
              "  <tbody>\n",
              "    <tr>\n",
              "      <th>0</th>\n",
              "      <td>Photo Editor &amp; Candy Camera &amp; Grid &amp; ScrapBook</td>\n",
              "      <td>ART_AND_DESIGN</td>\n",
              "      <td>4.1</td>\n",
              "      <td>159</td>\n",
              "      <td>19M</td>\n",
              "      <td>10,000+</td>\n",
              "      <td>Free</td>\n",
              "      <td>0</td>\n",
              "      <td>Everyone</td>\n",
              "      <td>Art &amp; Design</td>\n",
              "      <td>January 7, 2018</td>\n",
              "      <td>1.0.0</td>\n",
              "      <td>4.0.3 and up</td>\n",
              "    </tr>\n",
              "    <tr>\n",
              "      <th>1</th>\n",
              "      <td>Coloring book moana</td>\n",
              "      <td>ART_AND_DESIGN</td>\n",
              "      <td>3.9</td>\n",
              "      <td>967</td>\n",
              "      <td>14M</td>\n",
              "      <td>500,000+</td>\n",
              "      <td>Free</td>\n",
              "      <td>0</td>\n",
              "      <td>Everyone</td>\n",
              "      <td>Art &amp; Design;Pretend Play</td>\n",
              "      <td>January 15, 2018</td>\n",
              "      <td>2.0.0</td>\n",
              "      <td>4.0.3 and up</td>\n",
              "    </tr>\n",
              "  </tbody>\n",
              "</table>\n",
              "</div>"
            ],
            "text/plain": [
              "                                              App  ...   Android Ver\n",
              "0  Photo Editor & Candy Camera & Grid & ScrapBook  ...  4.0.3 and up\n",
              "1                             Coloring book moana  ...  4.0.3 and up\n",
              "\n",
              "[2 rows x 13 columns]"
            ]
          },
          "metadata": {},
          "execution_count": 3
        }
      ]
    },
    {
      "cell_type": "code",
      "metadata": {
        "colab": {
          "base_uri": "https://localhost:8080/",
          "height": 111
        },
        "id": "zDfNkwoEGSEi",
        "outputId": "eecebc59-2102-4979-d206-6d5e02e4a716"
      },
      "source": [
        "reviews_df.head(2)"
      ],
      "execution_count": 4,
      "outputs": [
        {
          "output_type": "execute_result",
          "data": {
            "text/html": [
              "<div>\n",
              "<style scoped>\n",
              "    .dataframe tbody tr th:only-of-type {\n",
              "        vertical-align: middle;\n",
              "    }\n",
              "\n",
              "    .dataframe tbody tr th {\n",
              "        vertical-align: top;\n",
              "    }\n",
              "\n",
              "    .dataframe thead th {\n",
              "        text-align: right;\n",
              "    }\n",
              "</style>\n",
              "<table border=\"1\" class=\"dataframe\">\n",
              "  <thead>\n",
              "    <tr style=\"text-align: right;\">\n",
              "      <th></th>\n",
              "      <th>App</th>\n",
              "      <th>Translated_Review</th>\n",
              "      <th>Sentiment</th>\n",
              "      <th>Sentiment_Polarity</th>\n",
              "      <th>Sentiment_Subjectivity</th>\n",
              "    </tr>\n",
              "  </thead>\n",
              "  <tbody>\n",
              "    <tr>\n",
              "      <th>0</th>\n",
              "      <td>10 Best Foods for You</td>\n",
              "      <td>I like eat delicious food. That's I'm cooking ...</td>\n",
              "      <td>Positive</td>\n",
              "      <td>1.00</td>\n",
              "      <td>0.533333</td>\n",
              "    </tr>\n",
              "    <tr>\n",
              "      <th>1</th>\n",
              "      <td>10 Best Foods for You</td>\n",
              "      <td>This help eating healthy exercise regular basis</td>\n",
              "      <td>Positive</td>\n",
              "      <td>0.25</td>\n",
              "      <td>0.288462</td>\n",
              "    </tr>\n",
              "  </tbody>\n",
              "</table>\n",
              "</div>"
            ],
            "text/plain": [
              "                     App  ... Sentiment_Subjectivity\n",
              "0  10 Best Foods for You  ...               0.533333\n",
              "1  10 Best Foods for You  ...               0.288462\n",
              "\n",
              "[2 rows x 5 columns]"
            ]
          },
          "metadata": {},
          "execution_count": 4
        }
      ]
    },
    {
      "cell_type": "code",
      "metadata": {
        "colab": {
          "base_uri": "https://localhost:8080/",
          "height": 419
        },
        "id": "AFYXyvDK9JcB",
        "outputId": "0b79b393-d415-4a76-89d9-76d4b9373294"
      },
      "source": [
        "#lets drop nan values from reviews dataframe which have no reviews\n",
        "reviews_df.drop(reviews_df[reviews_df['Translated_Review'].isna()].index,inplace=True)\n",
        "reviews_df"
      ],
      "execution_count": 5,
      "outputs": [
        {
          "output_type": "execute_result",
          "data": {
            "text/html": [
              "<div>\n",
              "<style scoped>\n",
              "    .dataframe tbody tr th:only-of-type {\n",
              "        vertical-align: middle;\n",
              "    }\n",
              "\n",
              "    .dataframe tbody tr th {\n",
              "        vertical-align: top;\n",
              "    }\n",
              "\n",
              "    .dataframe thead th {\n",
              "        text-align: right;\n",
              "    }\n",
              "</style>\n",
              "<table border=\"1\" class=\"dataframe\">\n",
              "  <thead>\n",
              "    <tr style=\"text-align: right;\">\n",
              "      <th></th>\n",
              "      <th>App</th>\n",
              "      <th>Translated_Review</th>\n",
              "      <th>Sentiment</th>\n",
              "      <th>Sentiment_Polarity</th>\n",
              "      <th>Sentiment_Subjectivity</th>\n",
              "    </tr>\n",
              "  </thead>\n",
              "  <tbody>\n",
              "    <tr>\n",
              "      <th>0</th>\n",
              "      <td>10 Best Foods for You</td>\n",
              "      <td>I like eat delicious food. That's I'm cooking ...</td>\n",
              "      <td>Positive</td>\n",
              "      <td>1.000000</td>\n",
              "      <td>0.533333</td>\n",
              "    </tr>\n",
              "    <tr>\n",
              "      <th>1</th>\n",
              "      <td>10 Best Foods for You</td>\n",
              "      <td>This help eating healthy exercise regular basis</td>\n",
              "      <td>Positive</td>\n",
              "      <td>0.250000</td>\n",
              "      <td>0.288462</td>\n",
              "    </tr>\n",
              "    <tr>\n",
              "      <th>3</th>\n",
              "      <td>10 Best Foods for You</td>\n",
              "      <td>Works great especially going grocery store</td>\n",
              "      <td>Positive</td>\n",
              "      <td>0.400000</td>\n",
              "      <td>0.875000</td>\n",
              "    </tr>\n",
              "    <tr>\n",
              "      <th>4</th>\n",
              "      <td>10 Best Foods for You</td>\n",
              "      <td>Best idea us</td>\n",
              "      <td>Positive</td>\n",
              "      <td>1.000000</td>\n",
              "      <td>0.300000</td>\n",
              "    </tr>\n",
              "    <tr>\n",
              "      <th>5</th>\n",
              "      <td>10 Best Foods for You</td>\n",
              "      <td>Best way</td>\n",
              "      <td>Positive</td>\n",
              "      <td>1.000000</td>\n",
              "      <td>0.300000</td>\n",
              "    </tr>\n",
              "    <tr>\n",
              "      <th>...</th>\n",
              "      <td>...</td>\n",
              "      <td>...</td>\n",
              "      <td>...</td>\n",
              "      <td>...</td>\n",
              "      <td>...</td>\n",
              "    </tr>\n",
              "    <tr>\n",
              "      <th>64222</th>\n",
              "      <td>Housing-Real Estate &amp; Property</td>\n",
              "      <td>Most ads older many agents ..not much owner po...</td>\n",
              "      <td>Positive</td>\n",
              "      <td>0.173333</td>\n",
              "      <td>0.486667</td>\n",
              "    </tr>\n",
              "    <tr>\n",
              "      <th>64223</th>\n",
              "      <td>Housing-Real Estate &amp; Property</td>\n",
              "      <td>If photos posted portal load, fit purpose. I'm...</td>\n",
              "      <td>Positive</td>\n",
              "      <td>0.225000</td>\n",
              "      <td>0.447222</td>\n",
              "    </tr>\n",
              "    <tr>\n",
              "      <th>64226</th>\n",
              "      <td>Housing-Real Estate &amp; Property</td>\n",
              "      <td>Dumb app, I wanted post property rent give opt...</td>\n",
              "      <td>Negative</td>\n",
              "      <td>-0.287500</td>\n",
              "      <td>0.250000</td>\n",
              "    </tr>\n",
              "    <tr>\n",
              "      <th>64227</th>\n",
              "      <td>Housing-Real Estate &amp; Property</td>\n",
              "      <td>I property business got link SMS happy perform...</td>\n",
              "      <td>Positive</td>\n",
              "      <td>0.800000</td>\n",
              "      <td>1.000000</td>\n",
              "    </tr>\n",
              "    <tr>\n",
              "      <th>64230</th>\n",
              "      <td>Housing-Real Estate &amp; Property</td>\n",
              "      <td>Useless app, I searched flats kondapur, Hydera...</td>\n",
              "      <td>Negative</td>\n",
              "      <td>-0.316667</td>\n",
              "      <td>0.400000</td>\n",
              "    </tr>\n",
              "  </tbody>\n",
              "</table>\n",
              "<p>37427 rows × 5 columns</p>\n",
              "</div>"
            ],
            "text/plain": [
              "                                  App  ... Sentiment_Subjectivity\n",
              "0               10 Best Foods for You  ...               0.533333\n",
              "1               10 Best Foods for You  ...               0.288462\n",
              "3               10 Best Foods for You  ...               0.875000\n",
              "4               10 Best Foods for You  ...               0.300000\n",
              "5               10 Best Foods for You  ...               0.300000\n",
              "...                               ...  ...                    ...\n",
              "64222  Housing-Real Estate & Property  ...               0.486667\n",
              "64223  Housing-Real Estate & Property  ...               0.447222\n",
              "64226  Housing-Real Estate & Property  ...               0.250000\n",
              "64227  Housing-Real Estate & Property  ...               1.000000\n",
              "64230  Housing-Real Estate & Property  ...               0.400000\n",
              "\n",
              "[37427 rows x 5 columns]"
            ]
          },
          "metadata": {},
          "execution_count": 5
        }
      ]
    },
    {
      "cell_type": "code",
      "metadata": {
        "colab": {
          "base_uri": "https://localhost:8080/",
          "height": 216
        },
        "id": "Sx3OjEBKB4JP",
        "outputId": "8bf530b8-aec3-4668-9d1d-9d50c1eac906"
      },
      "source": [
        "#Lets merge two dataframes\n",
        "combined_df = pd.merge(play_df,reviews_df,how='inner',left_on='App',right_on='App')\n",
        "combined_df.head(2)"
      ],
      "execution_count": 6,
      "outputs": [
        {
          "output_type": "execute_result",
          "data": {
            "text/html": [
              "<div>\n",
              "<style scoped>\n",
              "    .dataframe tbody tr th:only-of-type {\n",
              "        vertical-align: middle;\n",
              "    }\n",
              "\n",
              "    .dataframe tbody tr th {\n",
              "        vertical-align: top;\n",
              "    }\n",
              "\n",
              "    .dataframe thead th {\n",
              "        text-align: right;\n",
              "    }\n",
              "</style>\n",
              "<table border=\"1\" class=\"dataframe\">\n",
              "  <thead>\n",
              "    <tr style=\"text-align: right;\">\n",
              "      <th></th>\n",
              "      <th>App</th>\n",
              "      <th>Category</th>\n",
              "      <th>Rating</th>\n",
              "      <th>Reviews</th>\n",
              "      <th>Size</th>\n",
              "      <th>Installs</th>\n",
              "      <th>Type</th>\n",
              "      <th>Price</th>\n",
              "      <th>Content Rating</th>\n",
              "      <th>Genres</th>\n",
              "      <th>Last Updated</th>\n",
              "      <th>Current Ver</th>\n",
              "      <th>Android Ver</th>\n",
              "      <th>Translated_Review</th>\n",
              "      <th>Sentiment</th>\n",
              "      <th>Sentiment_Polarity</th>\n",
              "      <th>Sentiment_Subjectivity</th>\n",
              "    </tr>\n",
              "  </thead>\n",
              "  <tbody>\n",
              "    <tr>\n",
              "      <th>0</th>\n",
              "      <td>Coloring book moana</td>\n",
              "      <td>ART_AND_DESIGN</td>\n",
              "      <td>3.9</td>\n",
              "      <td>967</td>\n",
              "      <td>14M</td>\n",
              "      <td>500,000+</td>\n",
              "      <td>Free</td>\n",
              "      <td>0</td>\n",
              "      <td>Everyone</td>\n",
              "      <td>Art &amp; Design;Pretend Play</td>\n",
              "      <td>January 15, 2018</td>\n",
              "      <td>2.0.0</td>\n",
              "      <td>4.0.3 and up</td>\n",
              "      <td>A kid's excessive ads. The types ads allowed a...</td>\n",
              "      <td>Negative</td>\n",
              "      <td>-0.250</td>\n",
              "      <td>1.000000</td>\n",
              "    </tr>\n",
              "    <tr>\n",
              "      <th>1</th>\n",
              "      <td>Coloring book moana</td>\n",
              "      <td>ART_AND_DESIGN</td>\n",
              "      <td>3.9</td>\n",
              "      <td>967</td>\n",
              "      <td>14M</td>\n",
              "      <td>500,000+</td>\n",
              "      <td>Free</td>\n",
              "      <td>0</td>\n",
              "      <td>Everyone</td>\n",
              "      <td>Art &amp; Design;Pretend Play</td>\n",
              "      <td>January 15, 2018</td>\n",
              "      <td>2.0.0</td>\n",
              "      <td>4.0.3 and up</td>\n",
              "      <td>It bad &gt;:(</td>\n",
              "      <td>Negative</td>\n",
              "      <td>-0.725</td>\n",
              "      <td>0.833333</td>\n",
              "    </tr>\n",
              "  </tbody>\n",
              "</table>\n",
              "</div>"
            ],
            "text/plain": [
              "                   App  ... Sentiment_Subjectivity\n",
              "0  Coloring book moana  ...               1.000000\n",
              "1  Coloring book moana  ...               0.833333\n",
              "\n",
              "[2 rows x 17 columns]"
            ]
          },
          "metadata": {},
          "execution_count": 6
        }
      ]
    },
    {
      "cell_type": "code",
      "metadata": {
        "colab": {
          "base_uri": "https://localhost:8080/"
        },
        "id": "3so7xUYFCSNP",
        "outputId": "8d629df5-523e-4bc7-db67-a3834359c459"
      },
      "source": [
        "combined_df.columns"
      ],
      "execution_count": 7,
      "outputs": [
        {
          "output_type": "execute_result",
          "data": {
            "text/plain": [
              "Index(['App', 'Category', 'Rating', 'Reviews', 'Size', 'Installs', 'Type',\n",
              "       'Price', 'Content Rating', 'Genres', 'Last Updated', 'Current Ver',\n",
              "       'Android Ver', 'Translated_Review', 'Sentiment', 'Sentiment_Polarity',\n",
              "       'Sentiment_Subjectivity'],\n",
              "      dtype='object')"
            ]
          },
          "metadata": {},
          "execution_count": 7
        }
      ]
    },
    {
      "cell_type": "code",
      "metadata": {
        "id": "KXC4pYdpYFa3"
      },
      "source": [
        "combined_df.drop(play_df[play_df['Category']=='1.9'].index,inplace = True)"
      ],
      "execution_count": 8,
      "outputs": []
    },
    {
      "cell_type": "markdown",
      "metadata": {
        "id": "0uxdoDXcBqYu"
      },
      "source": [
        "**Data Preprocessing**"
      ]
    },
    {
      "cell_type": "markdown",
      "metadata": {
        "id": "Rt6yEqyTXr-t"
      },
      "source": [
        "so in the size column we can see we have values with M and K so lets replace them with their equivalent value with respect to k and convert into float"
      ]
    },
    {
      "cell_type": "code",
      "metadata": {
        "colab": {
          "base_uri": "https://localhost:8080/",
          "height": 411
        },
        "id": "klfsUY4pBpNv",
        "outputId": "6199c581-9a8a-4cac-fc75-cfe7189a289a"
      },
      "source": [
        "combined_df['Size']=combined_df['Size'].str.replace('M','000')\n",
        "combined_df['Size']=combined_df['Size'].str.replace('k','')\n",
        "#apps['size']=apps['size'].str.replace('.','')\n",
        "combined_df['Size']=combined_df['Size'].replace(\"Varies with device\",np.nan)\n",
        "combined_df['Size']=combined_df['Size'].astype('float')\n",
        "combined_df.head(5)"
      ],
      "execution_count": 9,
      "outputs": [
        {
          "output_type": "execute_result",
          "data": {
            "text/html": [
              "<div>\n",
              "<style scoped>\n",
              "    .dataframe tbody tr th:only-of-type {\n",
              "        vertical-align: middle;\n",
              "    }\n",
              "\n",
              "    .dataframe tbody tr th {\n",
              "        vertical-align: top;\n",
              "    }\n",
              "\n",
              "    .dataframe thead th {\n",
              "        text-align: right;\n",
              "    }\n",
              "</style>\n",
              "<table border=\"1\" class=\"dataframe\">\n",
              "  <thead>\n",
              "    <tr style=\"text-align: right;\">\n",
              "      <th></th>\n",
              "      <th>App</th>\n",
              "      <th>Category</th>\n",
              "      <th>Rating</th>\n",
              "      <th>Reviews</th>\n",
              "      <th>Size</th>\n",
              "      <th>Installs</th>\n",
              "      <th>Type</th>\n",
              "      <th>Price</th>\n",
              "      <th>Content Rating</th>\n",
              "      <th>Genres</th>\n",
              "      <th>Last Updated</th>\n",
              "      <th>Current Ver</th>\n",
              "      <th>Android Ver</th>\n",
              "      <th>Translated_Review</th>\n",
              "      <th>Sentiment</th>\n",
              "      <th>Sentiment_Polarity</th>\n",
              "      <th>Sentiment_Subjectivity</th>\n",
              "    </tr>\n",
              "  </thead>\n",
              "  <tbody>\n",
              "    <tr>\n",
              "      <th>0</th>\n",
              "      <td>Coloring book moana</td>\n",
              "      <td>ART_AND_DESIGN</td>\n",
              "      <td>3.9</td>\n",
              "      <td>967</td>\n",
              "      <td>14000.0</td>\n",
              "      <td>500,000+</td>\n",
              "      <td>Free</td>\n",
              "      <td>0</td>\n",
              "      <td>Everyone</td>\n",
              "      <td>Art &amp; Design;Pretend Play</td>\n",
              "      <td>January 15, 2018</td>\n",
              "      <td>2.0.0</td>\n",
              "      <td>4.0.3 and up</td>\n",
              "      <td>A kid's excessive ads. The types ads allowed a...</td>\n",
              "      <td>Negative</td>\n",
              "      <td>-0.250</td>\n",
              "      <td>1.000000</td>\n",
              "    </tr>\n",
              "    <tr>\n",
              "      <th>1</th>\n",
              "      <td>Coloring book moana</td>\n",
              "      <td>ART_AND_DESIGN</td>\n",
              "      <td>3.9</td>\n",
              "      <td>967</td>\n",
              "      <td>14000.0</td>\n",
              "      <td>500,000+</td>\n",
              "      <td>Free</td>\n",
              "      <td>0</td>\n",
              "      <td>Everyone</td>\n",
              "      <td>Art &amp; Design;Pretend Play</td>\n",
              "      <td>January 15, 2018</td>\n",
              "      <td>2.0.0</td>\n",
              "      <td>4.0.3 and up</td>\n",
              "      <td>It bad &gt;:(</td>\n",
              "      <td>Negative</td>\n",
              "      <td>-0.725</td>\n",
              "      <td>0.833333</td>\n",
              "    </tr>\n",
              "    <tr>\n",
              "      <th>2</th>\n",
              "      <td>Coloring book moana</td>\n",
              "      <td>ART_AND_DESIGN</td>\n",
              "      <td>3.9</td>\n",
              "      <td>967</td>\n",
              "      <td>14000.0</td>\n",
              "      <td>500,000+</td>\n",
              "      <td>Free</td>\n",
              "      <td>0</td>\n",
              "      <td>Everyone</td>\n",
              "      <td>Art &amp; Design;Pretend Play</td>\n",
              "      <td>January 15, 2018</td>\n",
              "      <td>2.0.0</td>\n",
              "      <td>4.0.3 and up</td>\n",
              "      <td>like</td>\n",
              "      <td>Neutral</td>\n",
              "      <td>0.000</td>\n",
              "      <td>0.000000</td>\n",
              "    </tr>\n",
              "    <tr>\n",
              "      <th>3</th>\n",
              "      <td>Coloring book moana</td>\n",
              "      <td>ART_AND_DESIGN</td>\n",
              "      <td>3.9</td>\n",
              "      <td>967</td>\n",
              "      <td>14000.0</td>\n",
              "      <td>500,000+</td>\n",
              "      <td>Free</td>\n",
              "      <td>0</td>\n",
              "      <td>Everyone</td>\n",
              "      <td>Art &amp; Design;Pretend Play</td>\n",
              "      <td>January 15, 2018</td>\n",
              "      <td>2.0.0</td>\n",
              "      <td>4.0.3 and up</td>\n",
              "      <td>I love colors inspyering</td>\n",
              "      <td>Positive</td>\n",
              "      <td>0.500</td>\n",
              "      <td>0.600000</td>\n",
              "    </tr>\n",
              "    <tr>\n",
              "      <th>4</th>\n",
              "      <td>Coloring book moana</td>\n",
              "      <td>ART_AND_DESIGN</td>\n",
              "      <td>3.9</td>\n",
              "      <td>967</td>\n",
              "      <td>14000.0</td>\n",
              "      <td>500,000+</td>\n",
              "      <td>Free</td>\n",
              "      <td>0</td>\n",
              "      <td>Everyone</td>\n",
              "      <td>Art &amp; Design;Pretend Play</td>\n",
              "      <td>January 15, 2018</td>\n",
              "      <td>2.0.0</td>\n",
              "      <td>4.0.3 and up</td>\n",
              "      <td>I hate</td>\n",
              "      <td>Negative</td>\n",
              "      <td>-0.800</td>\n",
              "      <td>0.900000</td>\n",
              "    </tr>\n",
              "  </tbody>\n",
              "</table>\n",
              "</div>"
            ],
            "text/plain": [
              "                   App  ... Sentiment_Subjectivity\n",
              "0  Coloring book moana  ...               1.000000\n",
              "1  Coloring book moana  ...               0.833333\n",
              "2  Coloring book moana  ...               0.000000\n",
              "3  Coloring book moana  ...               0.600000\n",
              "4  Coloring book moana  ...               0.900000\n",
              "\n",
              "[5 rows x 17 columns]"
            ]
          },
          "metadata": {},
          "execution_count": 9
        }
      ]
    },
    {
      "cell_type": "markdown",
      "metadata": {
        "id": "W8tQxWIVZCp_"
      },
      "source": [
        "now lets clean the Installs and Price columns as these have +, ',' ,$ present which can be treated as string. Then we will convert the last updated column to date format"
      ]
    },
    {
      "cell_type": "code",
      "metadata": {
        "colab": {
          "base_uri": "https://localhost:8080/",
          "height": 216
        },
        "id": "vzPfvq-hZQQ-",
        "outputId": "b699efa4-6057-48e4-da64-2ac7aaf6d7b0"
      },
      "source": [
        "combined_df['Installs'] = combined_df['Installs'].str.replace('+','')\n",
        "combined_df['Installs'] = combined_df['Installs'].str.replace(',','')\n",
        "combined_df['Installs'] = combined_df['Installs'].astype(int)\n",
        "combined_df['Reviews'] = combined_df['Reviews'].astype(int)\n",
        "combined_df['Price'] = combined_df['Price'].str.replace('$','')\n",
        "combined_df['Price'] = combined_df['Price'].astype(float)\n",
        "combined_df['Last Updated'] = pd.to_datetime(combined_df['Last Updated'])\n",
        "combined_df.head(2)"
      ],
      "execution_count": 10,
      "outputs": [
        {
          "output_type": "execute_result",
          "data": {
            "text/html": [
              "<div>\n",
              "<style scoped>\n",
              "    .dataframe tbody tr th:only-of-type {\n",
              "        vertical-align: middle;\n",
              "    }\n",
              "\n",
              "    .dataframe tbody tr th {\n",
              "        vertical-align: top;\n",
              "    }\n",
              "\n",
              "    .dataframe thead th {\n",
              "        text-align: right;\n",
              "    }\n",
              "</style>\n",
              "<table border=\"1\" class=\"dataframe\">\n",
              "  <thead>\n",
              "    <tr style=\"text-align: right;\">\n",
              "      <th></th>\n",
              "      <th>App</th>\n",
              "      <th>Category</th>\n",
              "      <th>Rating</th>\n",
              "      <th>Reviews</th>\n",
              "      <th>Size</th>\n",
              "      <th>Installs</th>\n",
              "      <th>Type</th>\n",
              "      <th>Price</th>\n",
              "      <th>Content Rating</th>\n",
              "      <th>Genres</th>\n",
              "      <th>Last Updated</th>\n",
              "      <th>Current Ver</th>\n",
              "      <th>Android Ver</th>\n",
              "      <th>Translated_Review</th>\n",
              "      <th>Sentiment</th>\n",
              "      <th>Sentiment_Polarity</th>\n",
              "      <th>Sentiment_Subjectivity</th>\n",
              "    </tr>\n",
              "  </thead>\n",
              "  <tbody>\n",
              "    <tr>\n",
              "      <th>0</th>\n",
              "      <td>Coloring book moana</td>\n",
              "      <td>ART_AND_DESIGN</td>\n",
              "      <td>3.9</td>\n",
              "      <td>967</td>\n",
              "      <td>14000.0</td>\n",
              "      <td>500000</td>\n",
              "      <td>Free</td>\n",
              "      <td>0.0</td>\n",
              "      <td>Everyone</td>\n",
              "      <td>Art &amp; Design;Pretend Play</td>\n",
              "      <td>2018-01-15</td>\n",
              "      <td>2.0.0</td>\n",
              "      <td>4.0.3 and up</td>\n",
              "      <td>A kid's excessive ads. The types ads allowed a...</td>\n",
              "      <td>Negative</td>\n",
              "      <td>-0.250</td>\n",
              "      <td>1.000000</td>\n",
              "    </tr>\n",
              "    <tr>\n",
              "      <th>1</th>\n",
              "      <td>Coloring book moana</td>\n",
              "      <td>ART_AND_DESIGN</td>\n",
              "      <td>3.9</td>\n",
              "      <td>967</td>\n",
              "      <td>14000.0</td>\n",
              "      <td>500000</td>\n",
              "      <td>Free</td>\n",
              "      <td>0.0</td>\n",
              "      <td>Everyone</td>\n",
              "      <td>Art &amp; Design;Pretend Play</td>\n",
              "      <td>2018-01-15</td>\n",
              "      <td>2.0.0</td>\n",
              "      <td>4.0.3 and up</td>\n",
              "      <td>It bad &gt;:(</td>\n",
              "      <td>Negative</td>\n",
              "      <td>-0.725</td>\n",
              "      <td>0.833333</td>\n",
              "    </tr>\n",
              "  </tbody>\n",
              "</table>\n",
              "</div>"
            ],
            "text/plain": [
              "                   App  ... Sentiment_Subjectivity\n",
              "0  Coloring book moana  ...               1.000000\n",
              "1  Coloring book moana  ...               0.833333\n",
              "\n",
              "[2 rows x 17 columns]"
            ]
          },
          "metadata": {},
          "execution_count": 10
        }
      ]
    },
    {
      "cell_type": "code",
      "metadata": {
        "colab": {
          "base_uri": "https://localhost:8080/"
        },
        "id": "3xm6aDI7DMLC",
        "outputId": "205321e6-231c-4617-ba11-d3b73fb7a21f"
      },
      "source": [
        "combined_df.info()"
      ],
      "execution_count": 11,
      "outputs": [
        {
          "output_type": "stream",
          "name": "stdout",
          "text": [
            "<class 'pandas.core.frame.DataFrame'>\n",
            "Int64Index: 72604 entries, 0 to 72604\n",
            "Data columns (total 17 columns):\n",
            " #   Column                  Non-Null Count  Dtype         \n",
            "---  ------                  --------------  -----         \n",
            " 0   App                     72604 non-null  object        \n",
            " 1   Category                72604 non-null  object        \n",
            " 2   Rating                  72565 non-null  float64       \n",
            " 3   Reviews                 72604 non-null  int64         \n",
            " 4   Size                    45046 non-null  float64       \n",
            " 5   Installs                72604 non-null  int64         \n",
            " 6   Type                    72604 non-null  object        \n",
            " 7   Price                   72604 non-null  float64       \n",
            " 8   Content Rating          72604 non-null  object        \n",
            " 9   Genres                  72604 non-null  object        \n",
            " 10  Last Updated            72604 non-null  datetime64[ns]\n",
            " 11  Current Ver             72604 non-null  object        \n",
            " 12  Android Ver             72604 non-null  object        \n",
            " 13  Translated_Review       72604 non-null  object        \n",
            " 14  Sentiment               72604 non-null  object        \n",
            " 15  Sentiment_Polarity      72604 non-null  float64       \n",
            " 16  Sentiment_Subjectivity  72604 non-null  float64       \n",
            "dtypes: datetime64[ns](1), float64(5), int64(2), object(9)\n",
            "memory usage: 10.0+ MB\n"
          ]
        }
      ]
    },
    {
      "cell_type": "markdown",
      "metadata": {
        "id": "mxSxP2pJXAAh"
      },
      "source": [
        "**We have the question to find out the average rating of the paid apps and free apps and compare them**"
      ]
    },
    {
      "cell_type": "code",
      "metadata": {
        "colab": {
          "base_uri": "https://localhost:8080/"
        },
        "id": "4sQXG2RRXLnW",
        "outputId": "dc09460f-3c95-4e79-d734-d30e6cd0d78c"
      },
      "source": [
        "combined_df.groupby('Type')['Rating'].mean()"
      ],
      "execution_count": 12,
      "outputs": [
        {
          "output_type": "execute_result",
          "data": {
            "text/plain": [
              "Type\n",
              "Free    4.333639\n",
              "Paid    4.333376\n",
              "Name: Rating, dtype: float64"
            ]
          },
          "metadata": {},
          "execution_count": 12
        }
      ]
    },
    {
      "cell_type": "markdown",
      "metadata": {
        "id": "09DeSuVFd9z_"
      },
      "source": [
        "We saw the result that the average rating of free and paid apps are very close and yet the average rating of free apps is more . So we can say free apps are performing well"
      ]
    },
    {
      "cell_type": "markdown",
      "metadata": {
        "id": "34F9ZoQjdKNH"
      },
      "source": [
        "**Can we find the percentage of involvement of audience in each app and compare every category. Okay lets check**"
      ]
    },
    {
      "cell_type": "code",
      "metadata": {
        "colab": {
          "base_uri": "https://localhost:8080/",
          "height": 216
        },
        "id": "X-xwDu0IdY0d",
        "outputId": "b3df3238-1769-40f1-d305-afc53e674c3e"
      },
      "source": [
        "#lets first install a new column named involvement and we will calculate involvement as (total install-no. of reviews)/total installs\n",
        "#lets define a function\n",
        "def involvement():\n",
        "  return (combined_df['Installs']-combined_df['Reviews'])/combined_df['Installs']\n",
        "#lets apply it to the columns\n",
        "combined_df['involvement'] = involvement()\n",
        "combined_df.head(2)"
      ],
      "execution_count": 13,
      "outputs": [
        {
          "output_type": "execute_result",
          "data": {
            "text/html": [
              "<div>\n",
              "<style scoped>\n",
              "    .dataframe tbody tr th:only-of-type {\n",
              "        vertical-align: middle;\n",
              "    }\n",
              "\n",
              "    .dataframe tbody tr th {\n",
              "        vertical-align: top;\n",
              "    }\n",
              "\n",
              "    .dataframe thead th {\n",
              "        text-align: right;\n",
              "    }\n",
              "</style>\n",
              "<table border=\"1\" class=\"dataframe\">\n",
              "  <thead>\n",
              "    <tr style=\"text-align: right;\">\n",
              "      <th></th>\n",
              "      <th>App</th>\n",
              "      <th>Category</th>\n",
              "      <th>Rating</th>\n",
              "      <th>Reviews</th>\n",
              "      <th>Size</th>\n",
              "      <th>Installs</th>\n",
              "      <th>Type</th>\n",
              "      <th>Price</th>\n",
              "      <th>Content Rating</th>\n",
              "      <th>Genres</th>\n",
              "      <th>Last Updated</th>\n",
              "      <th>Current Ver</th>\n",
              "      <th>Android Ver</th>\n",
              "      <th>Translated_Review</th>\n",
              "      <th>Sentiment</th>\n",
              "      <th>Sentiment_Polarity</th>\n",
              "      <th>Sentiment_Subjectivity</th>\n",
              "      <th>involvement</th>\n",
              "    </tr>\n",
              "  </thead>\n",
              "  <tbody>\n",
              "    <tr>\n",
              "      <th>0</th>\n",
              "      <td>Coloring book moana</td>\n",
              "      <td>ART_AND_DESIGN</td>\n",
              "      <td>3.9</td>\n",
              "      <td>967</td>\n",
              "      <td>14000.0</td>\n",
              "      <td>500000</td>\n",
              "      <td>Free</td>\n",
              "      <td>0.0</td>\n",
              "      <td>Everyone</td>\n",
              "      <td>Art &amp; Design;Pretend Play</td>\n",
              "      <td>2018-01-15</td>\n",
              "      <td>2.0.0</td>\n",
              "      <td>4.0.3 and up</td>\n",
              "      <td>A kid's excessive ads. The types ads allowed a...</td>\n",
              "      <td>Negative</td>\n",
              "      <td>-0.250</td>\n",
              "      <td>1.000000</td>\n",
              "      <td>0.998066</td>\n",
              "    </tr>\n",
              "    <tr>\n",
              "      <th>1</th>\n",
              "      <td>Coloring book moana</td>\n",
              "      <td>ART_AND_DESIGN</td>\n",
              "      <td>3.9</td>\n",
              "      <td>967</td>\n",
              "      <td>14000.0</td>\n",
              "      <td>500000</td>\n",
              "      <td>Free</td>\n",
              "      <td>0.0</td>\n",
              "      <td>Everyone</td>\n",
              "      <td>Art &amp; Design;Pretend Play</td>\n",
              "      <td>2018-01-15</td>\n",
              "      <td>2.0.0</td>\n",
              "      <td>4.0.3 and up</td>\n",
              "      <td>It bad &gt;:(</td>\n",
              "      <td>Negative</td>\n",
              "      <td>-0.725</td>\n",
              "      <td>0.833333</td>\n",
              "      <td>0.998066</td>\n",
              "    </tr>\n",
              "  </tbody>\n",
              "</table>\n",
              "</div>"
            ],
            "text/plain": [
              "                   App        Category  ...  Sentiment_Subjectivity  involvement\n",
              "0  Coloring book moana  ART_AND_DESIGN  ...                1.000000     0.998066\n",
              "1  Coloring book moana  ART_AND_DESIGN  ...                0.833333     0.998066\n",
              "\n",
              "[2 rows x 18 columns]"
            ]
          },
          "metadata": {},
          "execution_count": 13
        }
      ]
    },
    {
      "cell_type": "markdown",
      "metadata": {
        "id": "gElcbcJYgU-F"
      },
      "source": [
        "**Now lets check which app category has more audience involvement. we will do this by grouping the category and finding the average involvement**"
      ]
    },
    {
      "cell_type": "code",
      "metadata": {
        "id": "BJQGsTDJgULA"
      },
      "source": [
        "involvement_df = combined_df.groupby('Category')['involvement'].mean().reset_index()"
      ],
      "execution_count": 14,
      "outputs": []
    },
    {
      "cell_type": "code",
      "metadata": {
        "colab": {
          "base_uri": "https://localhost:8080/",
          "height": 436
        },
        "id": "y5q-wNYfhFK_",
        "outputId": "d325db3f-eb66-4a52-80fe-11227f7e44f5"
      },
      "source": [
        "plt.figure(figsize = (15,5))\n",
        "plt.plot(involvement_df['Category'],involvement_df['involvement'])\n",
        "plt.xticks(rotation = '90')\n",
        "plt.show()"
      ],
      "execution_count": 80,
      "outputs": [
        {
          "output_type": "display_data",
          "data": {
            "image/png": "[encoded data removed]",
            "text/plain": [
              "<Figure size 1080x360 with 1 Axes>"
            ]
          },
          "metadata": {
            "needs_background": "light"
          }
        }
      ]
    },
    {
      "cell_type": "markdown",
      "metadata": {
        "id": "9TiDT5NQMh4C"
      },
      "source": [
        "**Now lets check the number of paid apps and number of free apps to total apps**"
      ]
    },
    {
      "cell_type": "code",
      "metadata": {
        "id": "uF6kh248OFN8"
      },
      "source": [
        "#we have one index missing from the dataframe so lets reset and drop the old index column\n",
        "combined_df.reset_index(inplace=True)\n",
        "combined_df.drop(['index'],inplace = True,axis = 1)"
      ],
      "execution_count": 16,
      "outputs": []
    },
    {
      "cell_type": "code",
      "metadata": {
        "colab": {
          "base_uri": "https://localhost:8080/",
          "height": 282
        },
        "id": "d9arkQ7kC5O3",
        "outputId": "f85fc890-e20e-4978-b6f1-d7094a7a6d08"
      },
      "source": [
        "paid_list=[]\n",
        "free_list = []\n",
        "total_list = [i for i in play_df['App']]\n",
        "for i in range(len(play_df['Type'])):\n",
        "  if play_df['Type'][i]=='Paid':\n",
        "    paid_list.append(play_df['App'][i])\n",
        "  if play_df['Type'][i]=='Free':\n",
        "    free_list.append(play_df['App'][i])\n",
        "  else:\n",
        "    continue\n",
        "\n",
        "p = len(paid_list)\n",
        "q = len(free_list)\n",
        "r = len(total_list)\n",
        "    \n",
        "name = ('paid','free','total')\n",
        "values = (p,q,r)\n",
        "plt.bar(name,values)"
      ],
      "execution_count": 17,
      "outputs": [
        {
          "output_type": "execute_result",
          "data": {
            "text/plain": [
              "<BarContainer object of 3 artists>"
            ]
          },
          "metadata": {},
          "execution_count": 17
        },
        {
          "output_type": "display_data",
          "data": {
            "image/png": "[encoded data removed]",
            "text/plain": [
              "<Figure size 432x288 with 1 Axes>"
            ]
          },
          "metadata": {
            "needs_background": "light"
          }
        }
      ]
    },
    {
      "cell_type": "markdown",
      "metadata": {
        "id": "g7a2loe5odMG"
      },
      "source": [
        "**Sentiment polarity is the inclination of positivity or negativity so lets see whats the average sentiment polarity per category**"
      ]
    },
    {
      "cell_type": "code",
      "metadata": {
        "colab": {
          "base_uri": "https://localhost:8080/"
        },
        "id": "K7JnL1mMtJNT",
        "outputId": "d4555d27-a1c0-4173-d02d-c8785afd2f83"
      },
      "source": [
        "combined_df.groupby('Category')['Sentiment_Polarity'].mean()"
      ],
      "execution_count": 18,
      "outputs": [
        {
          "output_type": "execute_result",
          "data": {
            "text/plain": [
              "Category\n",
              "ART_AND_DESIGN         0.234735\n",
              "AUTO_AND_VEHICLES      0.348683\n",
              "BEAUTY                 0.193360\n",
              "BOOKS_AND_REFERENCE    0.226526\n",
              "BUSINESS               0.247749\n",
              "COMICS                 0.468482\n",
              "COMMUNICATION          0.182965\n",
              "DATING                 0.164817\n",
              "EDUCATION              0.251392\n",
              "ENTERTAINMENT          0.133400\n",
              "EVENTS                 0.377933\n",
              "FAMILY                 0.136996\n",
              "FINANCE                0.169447\n",
              "FOOD_AND_DRINK         0.253251\n",
              "GAME                   0.060506\n",
              "HEALTH_AND_FITNESS     0.278884\n",
              "HOUSE_AND_HOME         0.237435\n",
              "LIBRARIES_AND_DEMO     0.240771\n",
              "LIFESTYLE              0.187299\n",
              "MAPS_AND_NAVIGATION    0.267218\n",
              "MEDICAL                0.226565\n",
              "NEWS_AND_MAGAZINES     0.106667\n",
              "PARENTING              0.318880\n",
              "PERSONALIZATION        0.252074\n",
              "PHOTOGRAPHY            0.220280\n",
              "PRODUCTIVITY           0.169384\n",
              "SHOPPING               0.181029\n",
              "SOCIAL                 0.101338\n",
              "SPORTS                 0.172202\n",
              "TOOLS                  0.209034\n",
              "TRAVEL_AND_LOCAL       0.168372\n",
              "VIDEO_PLAYERS          0.143543\n",
              "WEATHER                0.282033\n",
              "Name: Sentiment_Polarity, dtype: float64"
            ]
          },
          "metadata": {},
          "execution_count": 18
        }
      ]
    },
    {
      "cell_type": "markdown",
      "metadata": {
        "id": "C46gX4ki0GA8"
      },
      "source": [
        "So we can see here highest positivity is for comics and lowest positivity is for games. So may be comics apps are more enjoyble than the Games "
      ]
    },
    {
      "cell_type": "markdown",
      "metadata": {
        "id": "Y1f18trlN0CN"
      },
      "source": [
        "**May be we can get it better by plotting a simple line chart**"
      ]
    },
    {
      "cell_type": "code",
      "metadata": {
        "colab": {
          "base_uri": "https://localhost:8080/",
          "height": 453
        },
        "id": "0AG63uJ8N8Qb",
        "outputId": "d7bdf1b6-4ce5-4e5a-9aae-4db296e7263e"
      },
      "source": [
        "x = sorted([i for i in combined_df['Category'].unique()])\n",
        "y = [i for i in combined_df.groupby('Category')['Sentiment_Polarity'].mean()]\n",
        "plt.figure(figsize=(15,5))\n",
        "plt.xticks(rotation = 90)\n",
        "plt.plot(x,y)"
      ],
      "execution_count": 79,
      "outputs": [
        {
          "output_type": "execute_result",
          "data": {
            "text/plain": [
              "[<matplotlib.lines.Line2D at 0x7fb9ed3d8250>]"
            ]
          },
          "metadata": {},
          "execution_count": 79
        },
        {
          "output_type": "display_data",
          "data": {
            "image/png": "[encoded data removed]",
            "text/plain": [
              "<Figure size 1080x360 with 1 Axes>"
            ]
          },
          "metadata": {
            "needs_background": "light"
          }
        }
      ]
    },
    {
      "cell_type": "code",
      "metadata": {
        "colab": {
          "base_uri": "https://localhost:8080/",
          "height": 455
        },
        "id": "7mtZp06p5I7j",
        "outputId": "6f7f3671-1dbb-4843-d193-be5e7737bfcb"
      },
      "source": [
        "z = [i for i in combined_df.groupby('Category')['Sentiment_Subjectivity'].mean()]\n",
        "x = sorted([i for i in combined_df['Category'].unique()])\n",
        "plt.figure(figsize = (15,5))\n",
        "plt.xticks(rotation = 90)\n",
        "plt.plot(x,z)"
      ],
      "execution_count": 78,
      "outputs": [
        {
          "output_type": "execute_result",
          "data": {
            "text/plain": [
              "[<matplotlib.lines.Line2D at 0x7fb9ed94d690>]"
            ]
          },
          "metadata": {},
          "execution_count": 78
        },
        {
          "output_type": "display_data",
          "data": {
            "image/png": "[encoded data removed]",
            "text/plain": [
              "<Figure size 1080x360 with 1 Axes>"
            ]
          },
          "metadata": {
            "needs_background": "light"
          }
        }
      ]
    },
    {
      "cell_type": "markdown",
      "metadata": {
        "id": "FZOnc0VC7NX3"
      },
      "source": [
        "So from the above we can see that comics and events categories have more subjectivity than the game category that means comics and events categories have more opinion based reviews than games."
      ]
    },
    {
      "cell_type": "markdown",
      "metadata": {
        "id": "uaN_pt4n8omt"
      },
      "source": [
        "**Sentiment polarity indicates how much a review is inclined to positivity or negativity and sentiment subjectivity indicates how much factual or emotional that review is. So lets see if there is any co relation between two**"
      ]
    },
    {
      "cell_type": "code",
      "metadata": {
        "colab": {
          "base_uri": "https://localhost:8080/",
          "height": 419
        },
        "id": "KITSvPB17aGb",
        "outputId": "93495f05-02ca-4254-8b33-df4ff9844448"
      },
      "source": [
        "sentiment_df = combined_df[['Sentiment_Polarity','Sentiment_Subjectivity']].dropna()\n",
        "sentiment_df"
      ],
      "execution_count": 21,
      "outputs": [
        {
          "output_type": "execute_result",
          "data": {
            "text/html": [
              "<div>\n",
              "<style scoped>\n",
              "    .dataframe tbody tr th:only-of-type {\n",
              "        vertical-align: middle;\n",
              "    }\n",
              "\n",
              "    .dataframe tbody tr th {\n",
              "        vertical-align: top;\n",
              "    }\n",
              "\n",
              "    .dataframe thead th {\n",
              "        text-align: right;\n",
              "    }\n",
              "</style>\n",
              "<table border=\"1\" class=\"dataframe\">\n",
              "  <thead>\n",
              "    <tr style=\"text-align: right;\">\n",
              "      <th></th>\n",
              "      <th>Sentiment_Polarity</th>\n",
              "      <th>Sentiment_Subjectivity</th>\n",
              "    </tr>\n",
              "  </thead>\n",
              "  <tbody>\n",
              "    <tr>\n",
              "      <th>0</th>\n",
              "      <td>-0.250000</td>\n",
              "      <td>1.000000</td>\n",
              "    </tr>\n",
              "    <tr>\n",
              "      <th>1</th>\n",
              "      <td>-0.725000</td>\n",
              "      <td>0.833333</td>\n",
              "    </tr>\n",
              "    <tr>\n",
              "      <th>2</th>\n",
              "      <td>0.000000</td>\n",
              "      <td>0.000000</td>\n",
              "    </tr>\n",
              "    <tr>\n",
              "      <th>3</th>\n",
              "      <td>0.500000</td>\n",
              "      <td>0.600000</td>\n",
              "    </tr>\n",
              "    <tr>\n",
              "      <th>4</th>\n",
              "      <td>-0.800000</td>\n",
              "      <td>0.900000</td>\n",
              "    </tr>\n",
              "    <tr>\n",
              "      <th>...</th>\n",
              "      <td>...</td>\n",
              "      <td>...</td>\n",
              "    </tr>\n",
              "    <tr>\n",
              "      <th>72599</th>\n",
              "      <td>0.475000</td>\n",
              "      <td>0.512500</td>\n",
              "    </tr>\n",
              "    <tr>\n",
              "      <th>72600</th>\n",
              "      <td>0.566667</td>\n",
              "      <td>0.733333</td>\n",
              "    </tr>\n",
              "    <tr>\n",
              "      <th>72601</th>\n",
              "      <td>0.200000</td>\n",
              "      <td>0.200000</td>\n",
              "    </tr>\n",
              "    <tr>\n",
              "      <th>72602</th>\n",
              "      <td>0.000000</td>\n",
              "      <td>0.000000</td>\n",
              "    </tr>\n",
              "    <tr>\n",
              "      <th>72603</th>\n",
              "      <td>0.850000</td>\n",
              "      <td>0.450000</td>\n",
              "    </tr>\n",
              "  </tbody>\n",
              "</table>\n",
              "<p>72604 rows × 2 columns</p>\n",
              "</div>"
            ],
            "text/plain": [
              "       Sentiment_Polarity  Sentiment_Subjectivity\n",
              "0               -0.250000                1.000000\n",
              "1               -0.725000                0.833333\n",
              "2                0.000000                0.000000\n",
              "3                0.500000                0.600000\n",
              "4               -0.800000                0.900000\n",
              "...                   ...                     ...\n",
              "72599            0.475000                0.512500\n",
              "72600            0.566667                0.733333\n",
              "72601            0.200000                0.200000\n",
              "72602            0.000000                0.000000\n",
              "72603            0.850000                0.450000\n",
              "\n",
              "[72604 rows x 2 columns]"
            ]
          },
          "metadata": {},
          "execution_count": 21
        }
      ]
    },
    {
      "cell_type": "code",
      "metadata": {
        "colab": {
          "base_uri": "https://localhost:8080/",
          "height": 111
        },
        "id": "MgU8YO7U9N7f",
        "outputId": "669148ad-fbf1-40d7-cac9-d4f950550603"
      },
      "source": [
        "sentiment_df.corr()"
      ],
      "execution_count": 22,
      "outputs": [
        {
          "output_type": "execute_result",
          "data": {
            "text/html": [
              "<div>\n",
              "<style scoped>\n",
              "    .dataframe tbody tr th:only-of-type {\n",
              "        vertical-align: middle;\n",
              "    }\n",
              "\n",
              "    .dataframe tbody tr th {\n",
              "        vertical-align: top;\n",
              "    }\n",
              "\n",
              "    .dataframe thead th {\n",
              "        text-align: right;\n",
              "    }\n",
              "</style>\n",
              "<table border=\"1\" class=\"dataframe\">\n",
              "  <thead>\n",
              "    <tr style=\"text-align: right;\">\n",
              "      <th></th>\n",
              "      <th>Sentiment_Polarity</th>\n",
              "      <th>Sentiment_Subjectivity</th>\n",
              "    </tr>\n",
              "  </thead>\n",
              "  <tbody>\n",
              "    <tr>\n",
              "      <th>Sentiment_Polarity</th>\n",
              "      <td>1.000000</td>\n",
              "      <td>0.227487</td>\n",
              "    </tr>\n",
              "    <tr>\n",
              "      <th>Sentiment_Subjectivity</th>\n",
              "      <td>0.227487</td>\n",
              "      <td>1.000000</td>\n",
              "    </tr>\n",
              "  </tbody>\n",
              "</table>\n",
              "</div>"
            ],
            "text/plain": [
              "                        Sentiment_Polarity  Sentiment_Subjectivity\n",
              "Sentiment_Polarity                1.000000                0.227487\n",
              "Sentiment_Subjectivity            0.227487                1.000000"
            ]
          },
          "metadata": {},
          "execution_count": 22
        }
      ]
    },
    {
      "cell_type": "markdown",
      "metadata": {
        "id": "STrwPqMn-3XP"
      },
      "source": [
        "As we can see here we have a positive co-relation but not very much so we cant say what can be the sentiment subjectivity by looking at the sentiment polarity alone."
      ]
    },
    {
      "cell_type": "markdown",
      "metadata": {
        "id": "KJouHCjAVBuV"
      },
      "source": [
        "**Lets create box plots for two sentiment polarity and sentiment subjectivity to know where most of the values lie**"
      ]
    },
    {
      "cell_type": "code",
      "metadata": {
        "id": "Z-hZzeVd9kMb",
        "colab": {
          "base_uri": "https://localhost:8080/",
          "height": 266
        },
        "outputId": "58206fca-f3b6-4dbd-c461-24b359a216f2"
      },
      "source": [
        "x = [i for i in sentiment_df['Sentiment_Polarity']]\n",
        "y = [i for i in sentiment_df['Sentiment_Subjectivity']]\n",
        "plt.boxplot((x,y),patch_artist=True,labels = ['sentiment_polarity','sentiment_subjectivity'])\n",
        "plt.show()"
      ],
      "execution_count": 23,
      "outputs": [
        {
          "output_type": "display_data",
          "data": {
            "image/png": "[encoded data removed]",
            "text/plain": [
              "<Figure size 432x288 with 1 Axes>"
            ]
          },
          "metadata": {
            "needs_background": "light"
          }
        }
      ]
    },
    {
      "cell_type": "markdown",
      "metadata": {
        "id": "rWU0iAqs_5gz"
      },
      "source": [
        "**Lets see which category have how much positiveness and negativeness by comparing the sentiment with the category**"
      ]
    },
    {
      "cell_type": "code",
      "metadata": {
        "id": "oYJK3hk6VV_C",
        "colab": {
          "base_uri": "https://localhost:8080/",
          "height": 419
        },
        "outputId": "a713a5b7-99a6-4fd4-87bf-2d0d859bc0a4"
      },
      "source": [
        "#first lets make a dataframe by cleaning the na values in sentiment column from combined_df\n",
        "sentiment_category_df = combined_df[['Category','Sentiment']].dropna()\n",
        "sentiment_category_df"
      ],
      "execution_count": 24,
      "outputs": [
        {
          "output_type": "execute_result",
          "data": {
            "text/html": [
              "<div>\n",
              "<style scoped>\n",
              "    .dataframe tbody tr th:only-of-type {\n",
              "        vertical-align: middle;\n",
              "    }\n",
              "\n",
              "    .dataframe tbody tr th {\n",
              "        vertical-align: top;\n",
              "    }\n",
              "\n",
              "    .dataframe thead th {\n",
              "        text-align: right;\n",
              "    }\n",
              "</style>\n",
              "<table border=\"1\" class=\"dataframe\">\n",
              "  <thead>\n",
              "    <tr style=\"text-align: right;\">\n",
              "      <th></th>\n",
              "      <th>Category</th>\n",
              "      <th>Sentiment</th>\n",
              "    </tr>\n",
              "  </thead>\n",
              "  <tbody>\n",
              "    <tr>\n",
              "      <th>0</th>\n",
              "      <td>ART_AND_DESIGN</td>\n",
              "      <td>Negative</td>\n",
              "    </tr>\n",
              "    <tr>\n",
              "      <th>1</th>\n",
              "      <td>ART_AND_DESIGN</td>\n",
              "      <td>Negative</td>\n",
              "    </tr>\n",
              "    <tr>\n",
              "      <th>2</th>\n",
              "      <td>ART_AND_DESIGN</td>\n",
              "      <td>Neutral</td>\n",
              "    </tr>\n",
              "    <tr>\n",
              "      <th>3</th>\n",
              "      <td>ART_AND_DESIGN</td>\n",
              "      <td>Positive</td>\n",
              "    </tr>\n",
              "    <tr>\n",
              "      <th>4</th>\n",
              "      <td>ART_AND_DESIGN</td>\n",
              "      <td>Negative</td>\n",
              "    </tr>\n",
              "    <tr>\n",
              "      <th>...</th>\n",
              "      <td>...</td>\n",
              "      <td>...</td>\n",
              "    </tr>\n",
              "    <tr>\n",
              "      <th>72599</th>\n",
              "      <td>PHOTOGRAPHY</td>\n",
              "      <td>Positive</td>\n",
              "    </tr>\n",
              "    <tr>\n",
              "      <th>72600</th>\n",
              "      <td>PHOTOGRAPHY</td>\n",
              "      <td>Positive</td>\n",
              "    </tr>\n",
              "    <tr>\n",
              "      <th>72601</th>\n",
              "      <td>PHOTOGRAPHY</td>\n",
              "      <td>Positive</td>\n",
              "    </tr>\n",
              "    <tr>\n",
              "      <th>72602</th>\n",
              "      <td>PHOTOGRAPHY</td>\n",
              "      <td>Neutral</td>\n",
              "    </tr>\n",
              "    <tr>\n",
              "      <th>72603</th>\n",
              "      <td>PHOTOGRAPHY</td>\n",
              "      <td>Positive</td>\n",
              "    </tr>\n",
              "  </tbody>\n",
              "</table>\n",
              "<p>72604 rows × 2 columns</p>\n",
              "</div>"
            ],
            "text/plain": [
              "             Category Sentiment\n",
              "0      ART_AND_DESIGN  Negative\n",
              "1      ART_AND_DESIGN  Negative\n",
              "2      ART_AND_DESIGN   Neutral\n",
              "3      ART_AND_DESIGN  Positive\n",
              "4      ART_AND_DESIGN  Negative\n",
              "...               ...       ...\n",
              "72599     PHOTOGRAPHY  Positive\n",
              "72600     PHOTOGRAPHY  Positive\n",
              "72601     PHOTOGRAPHY  Positive\n",
              "72602     PHOTOGRAPHY   Neutral\n",
              "72603     PHOTOGRAPHY  Positive\n",
              "\n",
              "[72604 rows x 2 columns]"
            ]
          },
          "metadata": {},
          "execution_count": 24
        }
      ]
    },
    {
      "cell_type": "code",
      "metadata": {
        "colab": {
          "base_uri": "https://localhost:8080/",
          "height": 419
        },
        "id": "m5xKPZ5xTgiK",
        "outputId": "a6cc1f4f-2872-49ab-ac18-4bbab705668f"
      },
      "source": [
        "#lets create a completely new dataframe by grouping the category and sentiment\n",
        "new_df = sentiment_category_df.groupby(['Sentiment','Category']).size().to_frame(name = 'count').reset_index()\n",
        "new_df"
      ],
      "execution_count": 25,
      "outputs": [
        {
          "output_type": "execute_result",
          "data": {
            "text/html": [
              "<div>\n",
              "<style scoped>\n",
              "    .dataframe tbody tr th:only-of-type {\n",
              "        vertical-align: middle;\n",
              "    }\n",
              "\n",
              "    .dataframe tbody tr th {\n",
              "        vertical-align: top;\n",
              "    }\n",
              "\n",
              "    .dataframe thead th {\n",
              "        text-align: right;\n",
              "    }\n",
              "</style>\n",
              "<table border=\"1\" class=\"dataframe\">\n",
              "  <thead>\n",
              "    <tr style=\"text-align: right;\">\n",
              "      <th></th>\n",
              "      <th>Sentiment</th>\n",
              "      <th>Category</th>\n",
              "      <th>count</th>\n",
              "    </tr>\n",
              "  </thead>\n",
              "  <tbody>\n",
              "    <tr>\n",
              "      <th>0</th>\n",
              "      <td>Negative</td>\n",
              "      <td>ART_AND_DESIGN</td>\n",
              "      <td>61</td>\n",
              "    </tr>\n",
              "    <tr>\n",
              "      <th>1</th>\n",
              "      <td>Negative</td>\n",
              "      <td>AUTO_AND_VEHICLES</td>\n",
              "      <td>17</td>\n",
              "    </tr>\n",
              "    <tr>\n",
              "      <th>2</th>\n",
              "      <td>Negative</td>\n",
              "      <td>BEAUTY</td>\n",
              "      <td>65</td>\n",
              "    </tr>\n",
              "    <tr>\n",
              "      <th>3</th>\n",
              "      <td>Negative</td>\n",
              "      <td>BOOKS_AND_REFERENCE</td>\n",
              "      <td>134</td>\n",
              "    </tr>\n",
              "    <tr>\n",
              "      <th>4</th>\n",
              "      <td>Negative</td>\n",
              "      <td>BUSINESS</td>\n",
              "      <td>342</td>\n",
              "    </tr>\n",
              "    <tr>\n",
              "      <th>...</th>\n",
              "      <td>...</td>\n",
              "      <td>...</td>\n",
              "      <td>...</td>\n",
              "    </tr>\n",
              "    <tr>\n",
              "      <th>94</th>\n",
              "      <td>Positive</td>\n",
              "      <td>SPORTS</td>\n",
              "      <td>2201</td>\n",
              "    </tr>\n",
              "    <tr>\n",
              "      <th>95</th>\n",
              "      <td>Positive</td>\n",
              "      <td>TOOLS</td>\n",
              "      <td>1090</td>\n",
              "    </tr>\n",
              "    <tr>\n",
              "      <th>96</th>\n",
              "      <td>Positive</td>\n",
              "      <td>TRAVEL_AND_LOCAL</td>\n",
              "      <td>1824</td>\n",
              "    </tr>\n",
              "    <tr>\n",
              "      <th>97</th>\n",
              "      <td>Positive</td>\n",
              "      <td>VIDEO_PLAYERS</td>\n",
              "      <td>190</td>\n",
              "    </tr>\n",
              "    <tr>\n",
              "      <th>98</th>\n",
              "      <td>Positive</td>\n",
              "      <td>WEATHER</td>\n",
              "      <td>165</td>\n",
              "    </tr>\n",
              "  </tbody>\n",
              "</table>\n",
              "<p>99 rows × 3 columns</p>\n",
              "</div>"
            ],
            "text/plain": [
              "   Sentiment             Category  count\n",
              "0   Negative       ART_AND_DESIGN     61\n",
              "1   Negative    AUTO_AND_VEHICLES     17\n",
              "2   Negative               BEAUTY     65\n",
              "3   Negative  BOOKS_AND_REFERENCE    134\n",
              "4   Negative             BUSINESS    342\n",
              "..       ...                  ...    ...\n",
              "94  Positive               SPORTS   2201\n",
              "95  Positive                TOOLS   1090\n",
              "96  Positive     TRAVEL_AND_LOCAL   1824\n",
              "97  Positive        VIDEO_PLAYERS    190\n",
              "98  Positive              WEATHER    165\n",
              "\n",
              "[99 rows x 3 columns]"
            ]
          },
          "metadata": {},
          "execution_count": 25
        }
      ]
    },
    {
      "cell_type": "code",
      "metadata": {
        "colab": {
          "base_uri": "https://localhost:8080/",
          "height": 1000
        },
        "id": "xKIVjr2SSXgb",
        "outputId": "4106f7c8-55fe-4fd1-be7c-0dbc642acb8c"
      },
      "source": [
        "#now lets make a pivot to see which category has how much positive,negative and neutral reviews\n",
        "pivotted_new_df = new_df.pivot(index='Category',columns='Sentiment',values='count')\n",
        "pivotted_new_df"
      ],
      "execution_count": 26,
      "outputs": [
        {
          "output_type": "execute_result",
          "data": {
            "text/html": [
              "<div>\n",
              "<style scoped>\n",
              "    .dataframe tbody tr th:only-of-type {\n",
              "        vertical-align: middle;\n",
              "    }\n",
              "\n",
              "    .dataframe tbody tr th {\n",
              "        vertical-align: top;\n",
              "    }\n",
              "\n",
              "    .dataframe thead th {\n",
              "        text-align: right;\n",
              "    }\n",
              "</style>\n",
              "<table border=\"1\" class=\"dataframe\">\n",
              "  <thead>\n",
              "    <tr style=\"text-align: right;\">\n",
              "      <th>Sentiment</th>\n",
              "      <th>Negative</th>\n",
              "      <th>Neutral</th>\n",
              "      <th>Positive</th>\n",
              "    </tr>\n",
              "    <tr>\n",
              "      <th>Category</th>\n",
              "      <th></th>\n",
              "      <th></th>\n",
              "      <th></th>\n",
              "    </tr>\n",
              "  </thead>\n",
              "  <tbody>\n",
              "    <tr>\n",
              "      <th>ART_AND_DESIGN</th>\n",
              "      <td>61</td>\n",
              "      <td>62</td>\n",
              "      <td>259</td>\n",
              "    </tr>\n",
              "    <tr>\n",
              "      <th>AUTO_AND_VEHICLES</th>\n",
              "      <td>17</td>\n",
              "      <td>36</td>\n",
              "      <td>236</td>\n",
              "    </tr>\n",
              "    <tr>\n",
              "      <th>BEAUTY</th>\n",
              "      <td>65</td>\n",
              "      <td>88</td>\n",
              "      <td>185</td>\n",
              "    </tr>\n",
              "    <tr>\n",
              "      <th>BOOKS_AND_REFERENCE</th>\n",
              "      <td>134</td>\n",
              "      <td>130</td>\n",
              "      <td>551</td>\n",
              "    </tr>\n",
              "    <tr>\n",
              "      <th>BUSINESS</th>\n",
              "      <td>342</td>\n",
              "      <td>555</td>\n",
              "      <td>1450</td>\n",
              "    </tr>\n",
              "    <tr>\n",
              "      <th>COMICS</th>\n",
              "      <td>2</td>\n",
              "      <td>6</td>\n",
              "      <td>72</td>\n",
              "    </tr>\n",
              "    <tr>\n",
              "      <th>COMMUNICATION</th>\n",
              "      <td>372</td>\n",
              "      <td>285</td>\n",
              "      <td>1292</td>\n",
              "    </tr>\n",
              "    <tr>\n",
              "      <th>DATING</th>\n",
              "      <td>697</td>\n",
              "      <td>530</td>\n",
              "      <td>1971</td>\n",
              "    </tr>\n",
              "    <tr>\n",
              "      <th>EDUCATION</th>\n",
              "      <td>216</td>\n",
              "      <td>132</td>\n",
              "      <td>1346</td>\n",
              "    </tr>\n",
              "    <tr>\n",
              "      <th>ENTERTAINMENT</th>\n",
              "      <td>588</td>\n",
              "      <td>359</td>\n",
              "      <td>1486</td>\n",
              "    </tr>\n",
              "    <tr>\n",
              "      <th>EVENTS</th>\n",
              "      <td>16</td>\n",
              "      <td>17</td>\n",
              "      <td>125</td>\n",
              "    </tr>\n",
              "    <tr>\n",
              "      <th>FAMILY</th>\n",
              "      <td>1559</td>\n",
              "      <td>463</td>\n",
              "      <td>3887</td>\n",
              "    </tr>\n",
              "    <tr>\n",
              "      <th>FINANCE</th>\n",
              "      <td>442</td>\n",
              "      <td>255</td>\n",
              "      <td>1312</td>\n",
              "    </tr>\n",
              "    <tr>\n",
              "      <th>FOOD_AND_DRINK</th>\n",
              "      <td>128</td>\n",
              "      <td>107</td>\n",
              "      <td>611</td>\n",
              "    </tr>\n",
              "    <tr>\n",
              "      <th>GAME</th>\n",
              "      <td>7270</td>\n",
              "      <td>814</td>\n",
              "      <td>11041</td>\n",
              "    </tr>\n",
              "    <tr>\n",
              "      <th>HEALTH_AND_FITNESS</th>\n",
              "      <td>577</td>\n",
              "      <td>482</td>\n",
              "      <td>3444</td>\n",
              "    </tr>\n",
              "    <tr>\n",
              "      <th>HOUSE_AND_HOME</th>\n",
              "      <td>114</td>\n",
              "      <td>148</td>\n",
              "      <td>435</td>\n",
              "    </tr>\n",
              "    <tr>\n",
              "      <th>LIBRARIES_AND_DEMO</th>\n",
              "      <td>51</td>\n",
              "      <td>44</td>\n",
              "      <td>238</td>\n",
              "    </tr>\n",
              "    <tr>\n",
              "      <th>LIFESTYLE</th>\n",
              "      <td>261</td>\n",
              "      <td>269</td>\n",
              "      <td>802</td>\n",
              "    </tr>\n",
              "    <tr>\n",
              "      <th>MAPS_AND_NAVIGATION</th>\n",
              "      <td>27</td>\n",
              "      <td>36</td>\n",
              "      <td>129</td>\n",
              "    </tr>\n",
              "    <tr>\n",
              "      <th>MEDICAL</th>\n",
              "      <td>362</td>\n",
              "      <td>315</td>\n",
              "      <td>1534</td>\n",
              "    </tr>\n",
              "    <tr>\n",
              "      <th>NEWS_AND_MAGAZINES</th>\n",
              "      <td>646</td>\n",
              "      <td>244</td>\n",
              "      <td>1314</td>\n",
              "    </tr>\n",
              "    <tr>\n",
              "      <th>PARENTING</th>\n",
              "      <td>23</td>\n",
              "      <td>52</td>\n",
              "      <td>185</td>\n",
              "    </tr>\n",
              "    <tr>\n",
              "      <th>PERSONALIZATION</th>\n",
              "      <td>217</td>\n",
              "      <td>196</td>\n",
              "      <td>899</td>\n",
              "    </tr>\n",
              "    <tr>\n",
              "      <th>PHOTOGRAPHY</th>\n",
              "      <td>485</td>\n",
              "      <td>286</td>\n",
              "      <td>1709</td>\n",
              "    </tr>\n",
              "    <tr>\n",
              "      <th>PRODUCTIVITY</th>\n",
              "      <td>596</td>\n",
              "      <td>381</td>\n",
              "      <td>2144</td>\n",
              "    </tr>\n",
              "    <tr>\n",
              "      <th>SHOPPING</th>\n",
              "      <td>422</td>\n",
              "      <td>267</td>\n",
              "      <td>1337</td>\n",
              "    </tr>\n",
              "    <tr>\n",
              "      <th>SOCIAL</th>\n",
              "      <td>400</td>\n",
              "      <td>268</td>\n",
              "      <td>730</td>\n",
              "    </tr>\n",
              "    <tr>\n",
              "      <th>SPORTS</th>\n",
              "      <td>821</td>\n",
              "      <td>482</td>\n",
              "      <td>2201</td>\n",
              "    </tr>\n",
              "    <tr>\n",
              "      <th>TOOLS</th>\n",
              "      <td>347</td>\n",
              "      <td>357</td>\n",
              "      <td>1090</td>\n",
              "    </tr>\n",
              "    <tr>\n",
              "      <th>TRAVEL_AND_LOCAL</th>\n",
              "      <td>760</td>\n",
              "      <td>517</td>\n",
              "      <td>1824</td>\n",
              "    </tr>\n",
              "    <tr>\n",
              "      <th>VIDEO_PLAYERS</th>\n",
              "      <td>83</td>\n",
              "      <td>58</td>\n",
              "      <td>190</td>\n",
              "    </tr>\n",
              "    <tr>\n",
              "      <th>WEATHER</th>\n",
              "      <td>33</td>\n",
              "      <td>35</td>\n",
              "      <td>165</td>\n",
              "    </tr>\n",
              "  </tbody>\n",
              "</table>\n",
              "</div>"
            ],
            "text/plain": [
              "Sentiment            Negative  Neutral  Positive\n",
              "Category                                        \n",
              "ART_AND_DESIGN             61       62       259\n",
              "AUTO_AND_VEHICLES          17       36       236\n",
              "BEAUTY                     65       88       185\n",
              "BOOKS_AND_REFERENCE       134      130       551\n",
              "BUSINESS                  342      555      1450\n",
              "COMICS                      2        6        72\n",
              "COMMUNICATION             372      285      1292\n",
              "DATING                    697      530      1971\n",
              "EDUCATION                 216      132      1346\n",
              "ENTERTAINMENT             588      359      1486\n",
              "EVENTS                     16       17       125\n",
              "FAMILY                   1559      463      3887\n",
              "FINANCE                   442      255      1312\n",
              "FOOD_AND_DRINK            128      107       611\n",
              "GAME                     7270      814     11041\n",
              "HEALTH_AND_FITNESS        577      482      3444\n",
              "HOUSE_AND_HOME            114      148       435\n",
              "LIBRARIES_AND_DEMO         51       44       238\n",
              "LIFESTYLE                 261      269       802\n",
              "MAPS_AND_NAVIGATION        27       36       129\n",
              "MEDICAL                   362      315      1534\n",
              "NEWS_AND_MAGAZINES        646      244      1314\n",
              "PARENTING                  23       52       185\n",
              "PERSONALIZATION           217      196       899\n",
              "PHOTOGRAPHY               485      286      1709\n",
              "PRODUCTIVITY              596      381      2144\n",
              "SHOPPING                  422      267      1337\n",
              "SOCIAL                    400      268       730\n",
              "SPORTS                    821      482      2201\n",
              "TOOLS                     347      357      1090\n",
              "TRAVEL_AND_LOCAL          760      517      1824\n",
              "VIDEO_PLAYERS              83       58       190\n",
              "WEATHER                    33       35       165"
            ]
          },
          "metadata": {},
          "execution_count": 26
        }
      ]
    },
    {
      "cell_type": "code",
      "metadata": {
        "colab": {
          "base_uri": "https://localhost:8080/",
          "height": 111
        },
        "id": "Z5lgRdM6RIo8",
        "outputId": "93bbe876-c4f5-4287-e9f0-01a52a23bcf2"
      },
      "source": [
        "#lets find out most negative reviewed category\n",
        "pivotted_new_df[pivotted_new_df['Negative']==pivotted_new_df['Negative'].max()]"
      ],
      "execution_count": 27,
      "outputs": [
        {
          "output_type": "execute_result",
          "data": {
            "text/html": [
              "<div>\n",
              "<style scoped>\n",
              "    .dataframe tbody tr th:only-of-type {\n",
              "        vertical-align: middle;\n",
              "    }\n",
              "\n",
              "    .dataframe tbody tr th {\n",
              "        vertical-align: top;\n",
              "    }\n",
              "\n",
              "    .dataframe thead th {\n",
              "        text-align: right;\n",
              "    }\n",
              "</style>\n",
              "<table border=\"1\" class=\"dataframe\">\n",
              "  <thead>\n",
              "    <tr style=\"text-align: right;\">\n",
              "      <th>Sentiment</th>\n",
              "      <th>Negative</th>\n",
              "      <th>Neutral</th>\n",
              "      <th>Positive</th>\n",
              "    </tr>\n",
              "    <tr>\n",
              "      <th>Category</th>\n",
              "      <th></th>\n",
              "      <th></th>\n",
              "      <th></th>\n",
              "    </tr>\n",
              "  </thead>\n",
              "  <tbody>\n",
              "    <tr>\n",
              "      <th>GAME</th>\n",
              "      <td>7270</td>\n",
              "      <td>814</td>\n",
              "      <td>11041</td>\n",
              "    </tr>\n",
              "  </tbody>\n",
              "</table>\n",
              "</div>"
            ],
            "text/plain": [
              "Sentiment  Negative  Neutral  Positive\n",
              "Category                              \n",
              "GAME           7270      814     11041"
            ]
          },
          "metadata": {},
          "execution_count": 27
        }
      ]
    },
    {
      "cell_type": "code",
      "metadata": {
        "colab": {
          "base_uri": "https://localhost:8080/",
          "height": 111
        },
        "id": "BjW5FL94XOvl",
        "outputId": "d3c501ee-e25c-4d98-d14f-d77409b78de3"
      },
      "source": [
        "#lets find out most positive reviewed category\n",
        "pivotted_new_df[pivotted_new_df['Positive']==pivotted_new_df['Positive'].max()]"
      ],
      "execution_count": 28,
      "outputs": [
        {
          "output_type": "execute_result",
          "data": {
            "text/html": [
              "<div>\n",
              "<style scoped>\n",
              "    .dataframe tbody tr th:only-of-type {\n",
              "        vertical-align: middle;\n",
              "    }\n",
              "\n",
              "    .dataframe tbody tr th {\n",
              "        vertical-align: top;\n",
              "    }\n",
              "\n",
              "    .dataframe thead th {\n",
              "        text-align: right;\n",
              "    }\n",
              "</style>\n",
              "<table border=\"1\" class=\"dataframe\">\n",
              "  <thead>\n",
              "    <tr style=\"text-align: right;\">\n",
              "      <th>Sentiment</th>\n",
              "      <th>Negative</th>\n",
              "      <th>Neutral</th>\n",
              "      <th>Positive</th>\n",
              "    </tr>\n",
              "    <tr>\n",
              "      <th>Category</th>\n",
              "      <th></th>\n",
              "      <th></th>\n",
              "      <th></th>\n",
              "    </tr>\n",
              "  </thead>\n",
              "  <tbody>\n",
              "    <tr>\n",
              "      <th>GAME</th>\n",
              "      <td>7270</td>\n",
              "      <td>814</td>\n",
              "      <td>11041</td>\n",
              "    </tr>\n",
              "  </tbody>\n",
              "</table>\n",
              "</div>"
            ],
            "text/plain": [
              "Sentiment  Negative  Neutral  Positive\n",
              "Category                              \n",
              "GAME           7270      814     11041"
            ]
          },
          "metadata": {},
          "execution_count": 28
        }
      ]
    },
    {
      "cell_type": "code",
      "metadata": {
        "colab": {
          "base_uri": "https://localhost:8080/",
          "height": 111
        },
        "id": "4ZvYui_3XeDS",
        "outputId": "5b04dabc-dd57-435d-9056-eb8ed07cf243"
      },
      "source": [
        "#lets find minimum number of negative reviewed Category\n",
        "pivotted_new_df[pivotted_new_df['Negative']==pivotted_new_df['Negative'].min()]"
      ],
      "execution_count": 29,
      "outputs": [
        {
          "output_type": "execute_result",
          "data": {
            "text/html": [
              "<div>\n",
              "<style scoped>\n",
              "    .dataframe tbody tr th:only-of-type {\n",
              "        vertical-align: middle;\n",
              "    }\n",
              "\n",
              "    .dataframe tbody tr th {\n",
              "        vertical-align: top;\n",
              "    }\n",
              "\n",
              "    .dataframe thead th {\n",
              "        text-align: right;\n",
              "    }\n",
              "</style>\n",
              "<table border=\"1\" class=\"dataframe\">\n",
              "  <thead>\n",
              "    <tr style=\"text-align: right;\">\n",
              "      <th>Sentiment</th>\n",
              "      <th>Negative</th>\n",
              "      <th>Neutral</th>\n",
              "      <th>Positive</th>\n",
              "    </tr>\n",
              "    <tr>\n",
              "      <th>Category</th>\n",
              "      <th></th>\n",
              "      <th></th>\n",
              "      <th></th>\n",
              "    </tr>\n",
              "  </thead>\n",
              "  <tbody>\n",
              "    <tr>\n",
              "      <th>COMICS</th>\n",
              "      <td>2</td>\n",
              "      <td>6</td>\n",
              "      <td>72</td>\n",
              "    </tr>\n",
              "  </tbody>\n",
              "</table>\n",
              "</div>"
            ],
            "text/plain": [
              "Sentiment  Negative  Neutral  Positive\n",
              "Category                              \n",
              "COMICS            2        6        72"
            ]
          },
          "metadata": {},
          "execution_count": 29
        }
      ]
    },
    {
      "cell_type": "code",
      "metadata": {
        "colab": {
          "base_uri": "https://localhost:8080/",
          "height": 111
        },
        "id": "zEjcJkjpXyUH",
        "outputId": "89ae7ce9-0a4a-497f-9878-ba6f2d452a2c"
      },
      "source": [
        "#lets find minimum number of positive reviewed Category\n",
        "pivotted_new_df[pivotted_new_df['Positive']==pivotted_new_df['Positive'].min()]"
      ],
      "execution_count": 30,
      "outputs": [
        {
          "output_type": "execute_result",
          "data": {
            "text/html": [
              "<div>\n",
              "<style scoped>\n",
              "    .dataframe tbody tr th:only-of-type {\n",
              "        vertical-align: middle;\n",
              "    }\n",
              "\n",
              "    .dataframe tbody tr th {\n",
              "        vertical-align: top;\n",
              "    }\n",
              "\n",
              "    .dataframe thead th {\n",
              "        text-align: right;\n",
              "    }\n",
              "</style>\n",
              "<table border=\"1\" class=\"dataframe\">\n",
              "  <thead>\n",
              "    <tr style=\"text-align: right;\">\n",
              "      <th>Sentiment</th>\n",
              "      <th>Negative</th>\n",
              "      <th>Neutral</th>\n",
              "      <th>Positive</th>\n",
              "    </tr>\n",
              "    <tr>\n",
              "      <th>Category</th>\n",
              "      <th></th>\n",
              "      <th></th>\n",
              "      <th></th>\n",
              "    </tr>\n",
              "  </thead>\n",
              "  <tbody>\n",
              "    <tr>\n",
              "      <th>COMICS</th>\n",
              "      <td>2</td>\n",
              "      <td>6</td>\n",
              "      <td>72</td>\n",
              "    </tr>\n",
              "  </tbody>\n",
              "</table>\n",
              "</div>"
            ],
            "text/plain": [
              "Sentiment  Negative  Neutral  Positive\n",
              "Category                              \n",
              "COMICS            2        6        72"
            ]
          },
          "metadata": {},
          "execution_count": 30
        }
      ]
    },
    {
      "cell_type": "code",
      "metadata": {
        "colab": {
          "base_uri": "https://localhost:8080/",
          "height": 467
        },
        "id": "frEuBc83YCAi",
        "outputId": "6eeba2ba-87c2-4b4c-94e6-fda1a7ec6e03"
      },
      "source": [
        "#lets plot the pivot\n",
        "pivotted_new_df.plot(kind = 'bar',figsize = (20,5), width =0.7)\n",
        "plt.xticks(rotation = 90)\n",
        "plt.show()"
      ],
      "execution_count": 77,
      "outputs": [
        {
          "output_type": "display_data",
          "data": {
            "text/plain": [
              "<Figure size 1080x360 with 0 Axes>"
            ]
          },
          "metadata": {}
        },
        {
          "output_type": "display_data",
          "data": {
            "image/png": "[encoded data removed]",
            "text/plain": [
              "<Figure size 1440x360 with 1 Axes>"
            ]
          },
          "metadata": {
            "needs_background": "light"
          }
        }
      ]
    },
    {
      "cell_type": "markdown",
      "metadata": {
        "id": "_Z9Itii0AILC"
      },
      "source": [
        "**Lets see which category is popular among the teens and we will do this by selecting the content rating which specifies teen and grouping by category then taking the average installs**"
      ]
    },
    {
      "cell_type": "code",
      "metadata": {
        "id": "KohlKL4DYN0F",
        "colab": {
          "base_uri": "https://localhost:8080/",
          "height": 669
        },
        "outputId": "e589a1ad-cf58-42e4-b1e4-80a97a49f919"
      },
      "source": [
        "teen_df = combined_df[combined_df['Content Rating']=='Teen'].groupby('Category').agg({'Installs':'mean'}).astype(int).reset_index()\n",
        "teen_df"
      ],
      "execution_count": 32,
      "outputs": [
        {
          "output_type": "execute_result",
          "data": {
            "text/html": [
              "<div>\n",
              "<style scoped>\n",
              "    .dataframe tbody tr th:only-of-type {\n",
              "        vertical-align: middle;\n",
              "    }\n",
              "\n",
              "    .dataframe tbody tr th {\n",
              "        vertical-align: top;\n",
              "    }\n",
              "\n",
              "    .dataframe thead th {\n",
              "        text-align: right;\n",
              "    }\n",
              "</style>\n",
              "<table border=\"1\" class=\"dataframe\">\n",
              "  <thead>\n",
              "    <tr style=\"text-align: right;\">\n",
              "      <th></th>\n",
              "      <th>Category</th>\n",
              "      <th>Installs</th>\n",
              "    </tr>\n",
              "  </thead>\n",
              "  <tbody>\n",
              "    <tr>\n",
              "      <th>0</th>\n",
              "      <td>AUTO_AND_VEHICLES</td>\n",
              "      <td>10000000</td>\n",
              "    </tr>\n",
              "    <tr>\n",
              "      <th>1</th>\n",
              "      <td>BOOKS_AND_REFERENCE</td>\n",
              "      <td>100000000</td>\n",
              "    </tr>\n",
              "    <tr>\n",
              "      <th>2</th>\n",
              "      <td>COMICS</td>\n",
              "      <td>876250</td>\n",
              "    </tr>\n",
              "    <tr>\n",
              "      <th>3</th>\n",
              "      <td>DATING</td>\n",
              "      <td>1000000</td>\n",
              "    </tr>\n",
              "    <tr>\n",
              "      <th>4</th>\n",
              "      <td>ENTERTAINMENT</td>\n",
              "      <td>5639919</td>\n",
              "    </tr>\n",
              "    <tr>\n",
              "      <th>5</th>\n",
              "      <td>EVENTS</td>\n",
              "      <td>100000</td>\n",
              "    </tr>\n",
              "    <tr>\n",
              "      <th>6</th>\n",
              "      <td>FAMILY</td>\n",
              "      <td>23007640</td>\n",
              "    </tr>\n",
              "    <tr>\n",
              "      <th>7</th>\n",
              "      <td>FOOD_AND_DRINK</td>\n",
              "      <td>4809523</td>\n",
              "    </tr>\n",
              "    <tr>\n",
              "      <th>8</th>\n",
              "      <td>GAME</td>\n",
              "      <td>46558481</td>\n",
              "    </tr>\n",
              "    <tr>\n",
              "      <th>9</th>\n",
              "      <td>HEALTH_AND_FITNESS</td>\n",
              "      <td>675675</td>\n",
              "    </tr>\n",
              "    <tr>\n",
              "      <th>10</th>\n",
              "      <td>HOUSE_AND_HOME</td>\n",
              "      <td>10000</td>\n",
              "    </tr>\n",
              "    <tr>\n",
              "      <th>11</th>\n",
              "      <td>LIFESTYLE</td>\n",
              "      <td>100000</td>\n",
              "    </tr>\n",
              "    <tr>\n",
              "      <th>12</th>\n",
              "      <td>MEDICAL</td>\n",
              "      <td>50000</td>\n",
              "    </tr>\n",
              "    <tr>\n",
              "      <th>13</th>\n",
              "      <td>NEWS_AND_MAGAZINES</td>\n",
              "      <td>685599853</td>\n",
              "    </tr>\n",
              "    <tr>\n",
              "      <th>14</th>\n",
              "      <td>PERSONALIZATION</td>\n",
              "      <td>63664596</td>\n",
              "    </tr>\n",
              "    <tr>\n",
              "      <th>15</th>\n",
              "      <td>SHOPPING</td>\n",
              "      <td>60229226</td>\n",
              "    </tr>\n",
              "    <tr>\n",
              "      <th>16</th>\n",
              "      <td>SOCIAL</td>\n",
              "      <td>637555888</td>\n",
              "    </tr>\n",
              "    <tr>\n",
              "      <th>17</th>\n",
              "      <td>SPORTS</td>\n",
              "      <td>5000000</td>\n",
              "    </tr>\n",
              "    <tr>\n",
              "      <th>18</th>\n",
              "      <td>TRAVEL_AND_LOCAL</td>\n",
              "      <td>3392156</td>\n",
              "    </tr>\n",
              "    <tr>\n",
              "      <th>19</th>\n",
              "      <td>VIDEO_PLAYERS</td>\n",
              "      <td>1000000</td>\n",
              "    </tr>\n",
              "  </tbody>\n",
              "</table>\n",
              "</div>"
            ],
            "text/plain": [
              "               Category   Installs\n",
              "0     AUTO_AND_VEHICLES   10000000\n",
              "1   BOOKS_AND_REFERENCE  100000000\n",
              "2                COMICS     876250\n",
              "3                DATING    1000000\n",
              "4         ENTERTAINMENT    5639919\n",
              "5                EVENTS     100000\n",
              "6                FAMILY   23007640\n",
              "7        FOOD_AND_DRINK    4809523\n",
              "8                  GAME   46558481\n",
              "9    HEALTH_AND_FITNESS     675675\n",
              "10       HOUSE_AND_HOME      10000\n",
              "11            LIFESTYLE     100000\n",
              "12              MEDICAL      50000\n",
              "13   NEWS_AND_MAGAZINES  685599853\n",
              "14      PERSONALIZATION   63664596\n",
              "15             SHOPPING   60229226\n",
              "16               SOCIAL  637555888\n",
              "17               SPORTS    5000000\n",
              "18     TRAVEL_AND_LOCAL    3392156\n",
              "19        VIDEO_PLAYERS    1000000"
            ]
          },
          "metadata": {},
          "execution_count": 32
        }
      ]
    },
    {
      "cell_type": "code",
      "metadata": {
        "id": "F2YeUn2DBMOH",
        "colab": {
          "base_uri": "https://localhost:8080/",
          "height": 447
        },
        "outputId": "e4c184ac-0f26-42c7-8b60-e1322f63d97d"
      },
      "source": [
        "plt.figure(figsize=(15,5))\n",
        "plt.plot(teen_df['Category'],teen_df['Installs'])\n",
        "plt.xticks(rotation = '90')\n",
        "plt.show()"
      ],
      "execution_count": 66,
      "outputs": [
        {
          "output_type": "display_data",
          "data": {
            "image/png": "[encoded data removed]",
            "text/plain": [
              "<Figure size 1080x360 with 1 Axes>"
            ]
          },
          "metadata": {
            "needs_background": "light"
          }
        }
      ]
    },
    {
      "cell_type": "markdown",
      "metadata": {
        "id": "UtZN-m02jwqA"
      },
      "source": [
        "So here we saw an ineresting result that when we consider average install we find two categories are dominating they are 'news and magazines' and 'social'"
      ]
    },
    {
      "cell_type": "markdown",
      "metadata": {
        "id": "Iy0sG55slTCx"
      },
      "source": [
        "Lets see the result by considering the total number of installs"
      ]
    },
    {
      "cell_type": "code",
      "metadata": {
        "id": "VrAqBvn7jbyD"
      },
      "source": [
        "teen_df1 = combined_df[combined_df['Content Rating']=='Teen'].groupby('Category').agg({'Installs':'sum'}).astype(int).reset_index()"
      ],
      "execution_count": 34,
      "outputs": []
    },
    {
      "cell_type": "code",
      "metadata": {
        "colab": {
          "base_uri": "https://localhost:8080/",
          "height": 447
        },
        "id": "HTCN-W2ck4qV",
        "outputId": "2f801bda-1644-4daa-8e27-d62b5f2b3cb0"
      },
      "source": [
        "plt.figure(figsize=(15,5))\n",
        "plt.plot(teen_df1['Category'],teen_df1['Installs'])\n",
        "plt.xticks(rotation = '90')\n",
        "plt.show()"
      ],
      "execution_count": 65,
      "outputs": [
        {
          "output_type": "display_data",
          "data": {
            "image/png": "[encoded data removed]",
            "text/plain": [
              "<Figure size 1080x360 with 1 Axes>"
            ]
          },
          "metadata": {
            "needs_background": "light"
          }
        }
      ]
    },
    {
      "cell_type": "markdown",
      "metadata": {
        "id": "aTSdzvnWjtUk"
      },
      "source": [
        "**So we saw we have three popular categies among the teens from above analysis. in two categories the genres are same but in Game category there are multiple genres so lets see which genre in game is mostly downloaded by the teens**"
      ]
    },
    {
      "cell_type": "code",
      "metadata": {
        "id": "mT3W_cY4lIGS",
        "colab": {
          "base_uri": "https://localhost:8080/",
          "height": 297
        },
        "outputId": "ed461961-223e-49a3-e92c-a618e9a5e8ce"
      },
      "source": [
        "#Lets filter by content rating and category then group by genres and taking the average installs per genre \n",
        "game_df = combined_df[(combined_df['Content Rating']=='Teen') & (combined_df['Category']=='GAME')].groupby('Genres')['Installs'].mean().reset_index()\n",
        "game_df"
      ],
      "execution_count": 36,
      "outputs": [
        {
          "output_type": "execute_result",
          "data": {
            "text/html": [
              "<div>\n",
              "<style scoped>\n",
              "    .dataframe tbody tr th:only-of-type {\n",
              "        vertical-align: middle;\n",
              "    }\n",
              "\n",
              "    .dataframe tbody tr th {\n",
              "        vertical-align: top;\n",
              "    }\n",
              "\n",
              "    .dataframe thead th {\n",
              "        text-align: right;\n",
              "    }\n",
              "</style>\n",
              "<table border=\"1\" class=\"dataframe\">\n",
              "  <thead>\n",
              "    <tr style=\"text-align: right;\">\n",
              "      <th></th>\n",
              "      <th>Genres</th>\n",
              "      <th>Installs</th>\n",
              "    </tr>\n",
              "  </thead>\n",
              "  <tbody>\n",
              "    <tr>\n",
              "      <th>0</th>\n",
              "      <td>Action</td>\n",
              "      <td>4.927575e+07</td>\n",
              "    </tr>\n",
              "    <tr>\n",
              "      <th>1</th>\n",
              "      <td>Adventure</td>\n",
              "      <td>1.000000e+07</td>\n",
              "    </tr>\n",
              "    <tr>\n",
              "      <th>2</th>\n",
              "      <td>Arcade</td>\n",
              "      <td>5.000000e+07</td>\n",
              "    </tr>\n",
              "    <tr>\n",
              "      <th>3</th>\n",
              "      <td>Puzzle</td>\n",
              "      <td>1.000000e+07</td>\n",
              "    </tr>\n",
              "    <tr>\n",
              "      <th>4</th>\n",
              "      <td>Racing</td>\n",
              "      <td>1.000000e+08</td>\n",
              "    </tr>\n",
              "    <tr>\n",
              "      <th>5</th>\n",
              "      <td>Role Playing</td>\n",
              "      <td>3.134328e+06</td>\n",
              "    </tr>\n",
              "    <tr>\n",
              "      <th>6</th>\n",
              "      <td>Simulation</td>\n",
              "      <td>3.770563e+07</td>\n",
              "    </tr>\n",
              "    <tr>\n",
              "      <th>7</th>\n",
              "      <td>Strategy</td>\n",
              "      <td>1.000000e+06</td>\n",
              "    </tr>\n",
              "  </tbody>\n",
              "</table>\n",
              "</div>"
            ],
            "text/plain": [
              "         Genres      Installs\n",
              "0        Action  4.927575e+07\n",
              "1     Adventure  1.000000e+07\n",
              "2        Arcade  5.000000e+07\n",
              "3        Puzzle  1.000000e+07\n",
              "4        Racing  1.000000e+08\n",
              "5  Role Playing  3.134328e+06\n",
              "6    Simulation  3.770563e+07\n",
              "7      Strategy  1.000000e+06"
            ]
          },
          "metadata": {},
          "execution_count": 36
        }
      ]
    },
    {
      "cell_type": "code",
      "metadata": {
        "colab": {
          "base_uri": "https://localhost:8080/",
          "height": 327
        },
        "id": "pj3A22XTkXa1",
        "outputId": "c366e33a-f3f0-48b0-b259-42d562a5d660"
      },
      "source": [
        "#lets plot the above df\n",
        "plt.bar(game_df['Genres'],game_df['Installs'])\n",
        "plt.xticks(rotation = '90')\n",
        "plt.show()"
      ],
      "execution_count": 37,
      "outputs": [
        {
          "output_type": "display_data",
          "data": {
            "image/png": "[encoded data removed]",
            "text/plain": [
              "<Figure size 432x288 with 1 Axes>"
            ]
          },
          "metadata": {
            "needs_background": "light"
          }
        }
      ]
    },
    {
      "cell_type": "code",
      "metadata": {
        "id": "ruumqYreqPAc",
        "colab": {
          "base_uri": "https://localhost:8080/"
        },
        "outputId": "cdbdb42e-8679-40da-bb17-4d93db03e8be"
      },
      "source": [
        "combined_df.groupby('Content Rating')['Content Rating'].count()"
      ],
      "execution_count": 38,
      "outputs": [
        {
          "output_type": "execute_result",
          "data": {
            "text/plain": [
              "Content Rating\n",
              "Adults only 18+       36\n",
              "Everyone           54394\n",
              "Everyone 10+        3040\n",
              "Mature 17+          4480\n",
              "Teen               10654\n",
              "Name: Content Rating, dtype: int64"
            ]
          },
          "metadata": {},
          "execution_count": 38
        }
      ]
    },
    {
      "cell_type": "markdown",
      "metadata": {
        "id": "LaRyCRd3wyR0"
      },
      "source": [
        "**We can see from above we have next highest as mature 17+ so lets say whats most popular in 17+**"
      ]
    },
    {
      "cell_type": "code",
      "metadata": {
        "colab": {
          "base_uri": "https://localhost:8080/",
          "height": 421
        },
        "id": "nI0Z3-YLwl0X",
        "outputId": "d56b897b-2309-4873-cdf4-60a556ff7418"
      },
      "source": [
        "mature_df1 = combined_df[combined_df['Content Rating']=='Mature 17+'].groupby('Category').agg({'Installs':'mean'}).astype(int).reset_index()\n",
        "mature_df1"
      ],
      "execution_count": 39,
      "outputs": [
        {
          "output_type": "execute_result",
          "data": {
            "text/html": [
              "<div>\n",
              "<style scoped>\n",
              "    .dataframe tbody tr th:only-of-type {\n",
              "        vertical-align: middle;\n",
              "    }\n",
              "\n",
              "    .dataframe tbody tr th {\n",
              "        vertical-align: top;\n",
              "    }\n",
              "\n",
              "    .dataframe thead th {\n",
              "        text-align: right;\n",
              "    }\n",
              "</style>\n",
              "<table border=\"1\" class=\"dataframe\">\n",
              "  <thead>\n",
              "    <tr style=\"text-align: right;\">\n",
              "      <th></th>\n",
              "      <th>Category</th>\n",
              "      <th>Installs</th>\n",
              "    </tr>\n",
              "  </thead>\n",
              "  <tbody>\n",
              "    <tr>\n",
              "      <th>0</th>\n",
              "      <td>BEAUTY</td>\n",
              "      <td>100000</td>\n",
              "    </tr>\n",
              "    <tr>\n",
              "      <th>1</th>\n",
              "      <td>COMMUNICATION</td>\n",
              "      <td>50000000</td>\n",
              "    </tr>\n",
              "    <tr>\n",
              "      <th>2</th>\n",
              "      <td>DATING</td>\n",
              "      <td>1184386</td>\n",
              "    </tr>\n",
              "    <tr>\n",
              "      <th>3</th>\n",
              "      <td>ENTERTAINMENT</td>\n",
              "      <td>10000000</td>\n",
              "    </tr>\n",
              "    <tr>\n",
              "      <th>4</th>\n",
              "      <td>GAME</td>\n",
              "      <td>43534722</td>\n",
              "    </tr>\n",
              "    <tr>\n",
              "      <th>5</th>\n",
              "      <td>MEDICAL</td>\n",
              "      <td>50000</td>\n",
              "    </tr>\n",
              "    <tr>\n",
              "      <th>6</th>\n",
              "      <td>NEWS_AND_MAGAZINES</td>\n",
              "      <td>1000000</td>\n",
              "    </tr>\n",
              "    <tr>\n",
              "      <th>7</th>\n",
              "      <td>PERSONALIZATION</td>\n",
              "      <td>100000</td>\n",
              "    </tr>\n",
              "    <tr>\n",
              "      <th>8</th>\n",
              "      <td>PHOTOGRAPHY</td>\n",
              "      <td>10000000</td>\n",
              "    </tr>\n",
              "    <tr>\n",
              "      <th>9</th>\n",
              "      <td>SOCIAL</td>\n",
              "      <td>80555371</td>\n",
              "    </tr>\n",
              "    <tr>\n",
              "      <th>10</th>\n",
              "      <td>SPORTS</td>\n",
              "      <td>1000000</td>\n",
              "    </tr>\n",
              "    <tr>\n",
              "      <th>11</th>\n",
              "      <td>TRAVEL_AND_LOCAL</td>\n",
              "      <td>10000000</td>\n",
              "    </tr>\n",
              "  </tbody>\n",
              "</table>\n",
              "</div>"
            ],
            "text/plain": [
              "              Category  Installs\n",
              "0               BEAUTY    100000\n",
              "1        COMMUNICATION  50000000\n",
              "2               DATING   1184386\n",
              "3        ENTERTAINMENT  10000000\n",
              "4                 GAME  43534722\n",
              "5              MEDICAL     50000\n",
              "6   NEWS_AND_MAGAZINES   1000000\n",
              "7      PERSONALIZATION    100000\n",
              "8          PHOTOGRAPHY  10000000\n",
              "9               SOCIAL  80555371\n",
              "10              SPORTS   1000000\n",
              "11    TRAVEL_AND_LOCAL  10000000"
            ]
          },
          "metadata": {},
          "execution_count": 39
        }
      ]
    },
    {
      "cell_type": "code",
      "metadata": {
        "colab": {
          "base_uri": "https://localhost:8080/",
          "height": 388
        },
        "id": "ttPyUeFLxPMp",
        "outputId": "65af4def-495d-40ce-8ae3-cfeafadfad42"
      },
      "source": [
        "#lets plot these\n",
        "plt.plot(mature_df1['Category'],mature_df1['Installs'])\n",
        "plt.xticks(rotation = '90')\n",
        "plt.show()"
      ],
      "execution_count": 40,
      "outputs": [
        {
          "output_type": "display_data",
          "data": {
            "image/png": "[encoded data removed]",
            "text/plain": [
              "<Figure size 432x288 with 1 Axes>"
            ]
          },
          "metadata": {
            "needs_background": "light"
          }
        }
      ]
    },
    {
      "cell_type": "code",
      "metadata": {
        "colab": {
          "base_uri": "https://localhost:8080/"
        },
        "id": "MDbHQIR2xlvf",
        "outputId": "65848acc-686e-4d4f-c71a-8b11af2d92e8"
      },
      "source": [
        "combined_df[combined_df['Category']=='COMMUNICATION'].groupby('Genres')['Genres'].count()"
      ],
      "execution_count": 41,
      "outputs": [
        {
          "output_type": "execute_result",
          "data": {
            "text/plain": [
              "Genres\n",
              "Communication    1949\n",
              "Name: Genres, dtype: int64"
            ]
          },
          "metadata": {},
          "execution_count": 41
        }
      ]
    },
    {
      "cell_type": "code",
      "metadata": {
        "colab": {
          "base_uri": "https://localhost:8080/"
        },
        "id": "u6q-hB9tyXZy",
        "outputId": "9583945b-83ba-40a9-926a-2f35e19e54da"
      },
      "source": [
        "combined_df[combined_df['Category']=='SOCIAL'].groupby('Genres')['Genres'].count()"
      ],
      "execution_count": 42,
      "outputs": [
        {
          "output_type": "execute_result",
          "data": {
            "text/plain": [
              "Genres\n",
              "Social    1398\n",
              "Name: Genres, dtype: int64"
            ]
          },
          "metadata": {},
          "execution_count": 42
        }
      ]
    },
    {
      "cell_type": "code",
      "metadata": {
        "colab": {
          "base_uri": "https://localhost:8080/",
          "height": 276
        },
        "id": "P690k0LWynyd",
        "outputId": "6a5bb5c2-d63e-4bb9-f7e0-a4b58e434f3b"
      },
      "source": [
        "mature_game_df = combined_df[(combined_df['Category']=='GAME') & (combined_df['Content Rating']=='Mature 17+')]\n",
        "grouped_df = mature_game_df[mature_game_df['Content Rating']=='Mature 17+'].groupby('Genres')['Installs'].mean().reset_index()\n",
        "#lets plot the dataframe\n",
        "plt.bar(grouped_df['Genres'],grouped_df['Installs'])\n",
        "plt.show()\n"
      ],
      "execution_count": 43,
      "outputs": [
        {
          "output_type": "display_data",
          "data": {
            "image/png": "[encoded data removed]",
            "text/plain": [
              "<Figure size 432x288 with 1 Axes>"
            ]
          },
          "metadata": {
            "needs_background": "light"
          }
        }
      ]
    },
    {
      "cell_type": "markdown",
      "metadata": {
        "id": "W_7ic-9dBIoQ"
      },
      "source": [
        "*We can clearly see that among 17+ people mostly social,communication and game category is popular and in the game category Action is most popular*"
      ]
    },
    {
      "cell_type": "code",
      "metadata": {
        "id": "F7MFG97fp4zy"
      },
      "source": [
        ""
      ],
      "execution_count": null,
      "outputs": []
    }
  ]
}